<<<<<<< HEAD
{"cells":[{"cell_type":"code","execution_count":1,"metadata":{"id":"NV5Vlkv9SHIZ"},"outputs":[],"source":["from selenium import webdriver\n","from selenium.webdriver.common.keys import Keys\n","from selenium.webdriver.common.by import By\n","from bs4 import BeautifulSoup\n","import time\n","import csv\n","import pandas as pd"]},{"cell_type":"code","execution_count":null,"metadata":{"id":"_3bnCZzwYxsz"},"outputs":[],"source":["cpath = 'C:/Users/user/chromedriver.exe'\n","driver = webdriver.Chrome(cpath)\n","driver.implicitly_wait(3)\n","driver.get(\"https://play.google.com/store/apps/details?id=com.oliveyoung\")"]},{"cell_type":"markdown","metadata":{"id":"bYrzFzeLb0SR"},"source":["모든 리뷰보기 버튼 클릭"]},{"cell_type":"code","execution_count":null,"metadata":{"id":"fuiXtR86Y4zb"},"outputs":[],"source":["driver.implicitly_wait(3) #2초 대기\n","driver.find_element_by_xpath('//*[@id=\"yDmH0d\"]/c-wiz[2]/div/div/div[1]/div[2]/div/div[1]/c-wiz[3]/section/div/div/div[5]/div/div/button').click() #버튼클릭"]},{"cell_type":"markdown","metadata":{"id":"yduTlVb5b2wD"},"source":["문제발생: 전체 리뷰 버튼이 있는 경우 일부만 나옴"]},{"cell_type":"code","execution_count":null,"metadata":{"id":"hJ9TX-twY93M"},"outputs":[],"source":["for i in range(1,8):\n","    reviews = driver.find_element_by_xpath(f\"/html/body/div[1]/div[4]/c-wiz[2]/div/div[2]/div/div/main/div/div[1]/div[2]/div/div[{i}]/div/div[2]/div[2]/span[1]\")\n","    print(reviews.text)"]},{"cell_type":"markdown","metadata":{"id":"o01fuNOWb7um"},"source":["특수경우 점검: 전체 리뷰 버튼 클릭 후 새로운 루트로 리뷰 출력"]},{"cell_type":"code","execution_count":null,"metadata":{"id":"5z8n1wA7ZAl8"},"outputs":[],"source":["more_comments = driver.find_element_by_xpath('/html/body/div[1]/div[4]/c-wiz[2]/div/div[2]/div/div/main/div/div[1]/div[2]/div/div[7]/div/div[2]/div[2]/span[1]/div/button')\n","more_comments.click()\n","reviews = driver.find_element_by_xpath(\"/html/body/div[1]/div[4]/c-wiz[2]/div/div[2]/div/div/main/div/div[1]/div[2]/div/div[7]/div/div[2]/div[2]/span[2]\")\n","\n","print(reviews.text)"]},{"cell_type":"markdown","metadata":{"id":"cSMjiMeKcBYL"},"source":["특수경우의 리뷰 길이"]},{"cell_type":"code","execution_count":null,"metadata":{"id":"68ofjMDncF56"},"outputs":[],"source":["reviews = driver.find_element_by_xpath(\"/html/body/div[1]/div[4]/c-wiz[2]/div/div[2]/div/div/main/div/div[1]/div[2]/div/div[3]/div/div[2]/div[2]/span[1]\")\n","print(len(reviews.text))"]},{"cell_type":"code","execution_count":null,"metadata":{"id":"H8NOsdRZcKMY"},"outputs":[],"source":["reviews = driver.find_element_by_xpath(\"/html/body/div[1]/div[4]/c-wiz[2]/div/div[2]/div/div/main/div/div[1]/div[2]/div/div[7]/div/div[2]/div[2]/span[1]\")\n","print(len(reviews.text))"]},{"cell_type":"markdown","metadata":{"id":"t31h8e_acN4-"},"source":["길이에 따른 버튼 누르기"]},{"cell_type":"code","execution_count":null,"metadata":{"id":"GCmMidr1cNF2"},"outputs":[],"source":["for i in range(1,20):\n","    reviews = driver.find_element_by_xpath(f\"/html/body/div[1]/div[4]/c-wiz[2]/div/div[2]/div/div/main/div/div[1]/div[2]/div/div[{i}]/div/div[2]/div[2]/span[1]\")\n","    if len(reviews.text)>=309:\n","        driver.find_element_by_xpath(f'//*[@id=\"fcxH9b\"]/div[4]/c-wiz[2]/div/div[2]/div/div/main/div/div[1]/div[2]/div/div[{i}]/div/div[2]/div[2]/span[1]/div/button').click()\n","        new_reviews = driver.find_element_by_xpath(f\"/html/body/div[1]/div[4]/c-wiz[2]/div/div[2]/div/div/main/div/div[1]/div[2]/div/div[{i}]/div/div[2]/div[2]/span[2]\")\n","        print(new_reviews.text)\n","    else:\n","        new_reviews = driver.find_element_by_xpath(f\"/html/body/div[1]/div[4]/c-wiz[2]/div/div[2]/div/div/main/div/div[1]/div[2]/div/div[{i}]/div/div[2]/div[2]/span[1]\")\n","        print(new_reviews.text)"]}],"metadata":{"colab":{"collapsed_sections":[],"name":"review_project.ipynb","provenance":[]},"kernelspec":{"display_name":"Python 3","name":"python3"},"language_info":{"codemirror_mode":{"name":"ipython","version":3},"file_extension":".py","mimetype":"text/x-python","name":"python","nbconvert_exporter":"python","pygments_lexer":"ipython3","version":"3.9.7"}},"nbformat":4,"nbformat_minor":0}
=======
{
 "cells": [
  {
   "cell_type": "code",
   "execution_count": 1,
   "metadata": {
    "id": "NV5Vlkv9SHIZ"
   },
   "outputs": [],
   "source": [
    "from selenium import webdriver\n",
    "from selenium.webdriver.common.keys import Keys\n",
    "from selenium.webdriver.common.by import By\n",
    "from bs4 import BeautifulSoup\n",
    "import time\n",
    "import csv\n",
    "import pandas as pd"
   ]
  },
  {
   "cell_type": "code",
   "execution_count": 12,
   "metadata": {
    "id": "_3bnCZzwYxsz"
   },
   "outputs": [],
   "source": [
    "driver = webdriver.Chrome()\n",
    "driver.implicitly_wait(3)\n",
    "driver.get(\"https://play.google.com/store/apps/details?id=com.oliveyoung\")"
   ]
  },
  {
   "cell_type": "markdown",
   "metadata": {
    "id": "bYrzFzeLb0SR"
   },
   "source": [
    "### 모든 리뷰보기 버튼 클릭"
   ]
  },
  {
   "cell_type": "code",
   "execution_count": 13,
   "metadata": {
    "id": "fuiXtR86Y4zb"
   },
   "outputs": [
    {
     "name": "stderr",
     "output_type": "stream",
     "text": [
      "C:\\Users\\zls99\\AppData\\Local\\Temp/ipykernel_9760/2849989996.py:2: DeprecationWarning: find_element_by_* commands are deprecated. Please use find_element() instead\n",
      "  driver.find_element_by_xpath('//*[@id=\"yDmH0d\"]/c-wiz[2]/div/div/div[1]/div[2]/div/div[1]/c-wiz[3]/section/div/div/div[5]/div/div/button').click() #버튼클릭\n"
     ]
    }
   ],
   "source": [
    "driver.implicitly_wait(3) #2초 대기\n",
    "driver.find_element_by_xpath('//*[@id=\"yDmH0d\"]/c-wiz[2]/div/div/div[1]/div[2]/div/div[1]/c-wiz[3]/section/div/div/div[5]/div/div/button').click() #버튼클릭"
   ]
  },
  {
   "cell_type": "markdown",
   "metadata": {
    "id": "yduTlVb5b2wD"
   },
   "source": [
    "### 리뷰 계속 불러오기"
   ]
  },
  {
   "cell_type": "code",
   "execution_count": 28,
   "metadata": {},
   "outputs": [
    {
     "name": "stderr",
     "output_type": "stream",
     "text": [
      "C:\\Users\\zls99\\AppData\\Local\\Temp/ipykernel_9760/3149743068.py:3: DeprecationWarning: find_element_by_* commands are deprecated. Please use find_element() instead\n",
      "  driver.find_element_by_xpath(f\"\"\"//*[@id=\"yDmH0d\"]/div[4]/div[2]/div/div/div/div/div[2]/div/div[1]/div[{i}]\"\"\").click()\n"
     ]
    },
    {
     "ename": "ElementClickInterceptedException",
     "evalue": "Message: element click intercepted: Element <div class=\"RHo1pe\">...</div> is not clickable at point (347, 894). Other element would receive the click: <div class=\"mjANdc eEPege\">...</div>\n  (Session info: chrome=98.0.4758.102)\nStacktrace:\nBacktrace:\n\tOrdinal0 [0x00FF69A3+2582947]\n\tOrdinal0 [0x00F8A6D1+2139857]\n\tOrdinal0 [0x00E83A98+1063576]\n\tOrdinal0 [0x00EB636F+1270639]\n\tOrdinal0 [0x00EB45B7+1263031]\n\tOrdinal0 [0x00EB220B+1253899]\n\tOrdinal0 [0x00EB0FF9+1249273]\n\tOrdinal0 [0x00EA6B53+1207123]\n\tOrdinal0 [0x00EC854C+1344844]\n\tOrdinal0 [0x00EA6524+1205540]\n\tOrdinal0 [0x00EC86A4+1345188]\n\tOrdinal0 [0x00ED834A+1409866]\n\tOrdinal0 [0x00EC8366+1344358]\n\tOrdinal0 [0x00EA5176+1200502]\n\tOrdinal0 [0x00EA6066+1204326]\n\tGetHandleVerifier [0x0119BE02+1675858]\n\tGetHandleVerifier [0x0125036C+2414524]\n\tGetHandleVerifier [0x0108BB01+560977]\n\tGetHandleVerifier [0x0108A8D3+556323]\n\tOrdinal0 [0x00F9020E+2163214]\n\tOrdinal0 [0x00F95078+2183288]\n\tOrdinal0 [0x00F951C0+2183616]\n\tOrdinal0 [0x00F9EE1C+2223644]\n\tBaseThreadInitThunk [0x7652FA29+25]\n\tRtlGetAppContainerNamedObjectPath [0x77AD7A9E+286]\n\tRtlGetAppContainerNamedObjectPath [0x77AD7A6E+238]\n",
     "output_type": "error",
     "traceback": [
      "\u001b[1;31m---------------------------------------------------------------------------\u001b[0m",
      "\u001b[1;31mElementClickInterceptedException\u001b[0m          Traceback (most recent call last)",
      "\u001b[1;32m~\\AppData\\Local\\Temp/ipykernel_9760/3149743068.py\u001b[0m in \u001b[0;36m<module>\u001b[1;34m\u001b[0m\n\u001b[0;32m      1\u001b[0m \u001b[1;32mfor\u001b[0m \u001b[0mi\u001b[0m \u001b[1;32min\u001b[0m \u001b[0mrange\u001b[0m\u001b[1;33m(\u001b[0m\u001b[1;36m40\u001b[0m\u001b[1;33m,\u001b[0m\u001b[1;36m7001\u001b[0m\u001b[1;33m,\u001b[0m\u001b[1;36m40\u001b[0m\u001b[1;33m)\u001b[0m\u001b[1;33m:\u001b[0m\u001b[1;33m\u001b[0m\u001b[1;33m\u001b[0m\u001b[0m\n\u001b[0;32m      2\u001b[0m     \u001b[0mdriver\u001b[0m\u001b[1;33m.\u001b[0m\u001b[0mimplicitly_wait\u001b[0m\u001b[1;33m(\u001b[0m\u001b[1;36m10\u001b[0m\u001b[1;33m)\u001b[0m \u001b[1;31m#4초 대기\u001b[0m\u001b[1;33m\u001b[0m\u001b[1;33m\u001b[0m\u001b[0m\n\u001b[1;32m----> 3\u001b[1;33m     \u001b[0mdriver\u001b[0m\u001b[1;33m.\u001b[0m\u001b[0mfind_element_by_xpath\u001b[0m\u001b[1;33m(\u001b[0m\u001b[1;34mf\"\"\"//*[@id=\"yDmH0d\"]/div[4]/div[2]/div/div/div/div/div[2]/div/div[1]/div[{i}]\"\"\"\u001b[0m\u001b[1;33m)\u001b[0m\u001b[1;33m.\u001b[0m\u001b[0mclick\u001b[0m\u001b[1;33m(\u001b[0m\u001b[1;33m)\u001b[0m\u001b[1;33m\u001b[0m\u001b[1;33m\u001b[0m\u001b[0m\n\u001b[0m",
      "\u001b[1;32m~\\anaconda3\\lib\\site-packages\\selenium\\webdriver\\remote\\webelement.py\u001b[0m in \u001b[0;36mclick\u001b[1;34m(self)\u001b[0m\n\u001b[0;32m     79\u001b[0m     \u001b[1;32mdef\u001b[0m \u001b[0mclick\u001b[0m\u001b[1;33m(\u001b[0m\u001b[0mself\u001b[0m\u001b[1;33m)\u001b[0m \u001b[1;33m->\u001b[0m \u001b[1;32mNone\u001b[0m\u001b[1;33m:\u001b[0m\u001b[1;33m\u001b[0m\u001b[1;33m\u001b[0m\u001b[0m\n\u001b[0;32m     80\u001b[0m         \u001b[1;34m\"\"\"Clicks the element.\"\"\"\u001b[0m\u001b[1;33m\u001b[0m\u001b[1;33m\u001b[0m\u001b[0m\n\u001b[1;32m---> 81\u001b[1;33m         \u001b[0mself\u001b[0m\u001b[1;33m.\u001b[0m\u001b[0m_execute\u001b[0m\u001b[1;33m(\u001b[0m\u001b[0mCommand\u001b[0m\u001b[1;33m.\u001b[0m\u001b[0mCLICK_ELEMENT\u001b[0m\u001b[1;33m)\u001b[0m\u001b[1;33m\u001b[0m\u001b[1;33m\u001b[0m\u001b[0m\n\u001b[0m\u001b[0;32m     82\u001b[0m \u001b[1;33m\u001b[0m\u001b[0m\n\u001b[0;32m     83\u001b[0m     \u001b[1;32mdef\u001b[0m \u001b[0msubmit\u001b[0m\u001b[1;33m(\u001b[0m\u001b[0mself\u001b[0m\u001b[1;33m)\u001b[0m\u001b[1;33m:\u001b[0m\u001b[1;33m\u001b[0m\u001b[1;33m\u001b[0m\u001b[0m\n",
      "\u001b[1;32m~\\anaconda3\\lib\\site-packages\\selenium\\webdriver\\remote\\webelement.py\u001b[0m in \u001b[0;36m_execute\u001b[1;34m(self, command, params)\u001b[0m\n\u001b[0;32m    708\u001b[0m             \u001b[0mparams\u001b[0m \u001b[1;33m=\u001b[0m \u001b[1;33m{\u001b[0m\u001b[1;33m}\u001b[0m\u001b[1;33m\u001b[0m\u001b[1;33m\u001b[0m\u001b[0m\n\u001b[0;32m    709\u001b[0m         \u001b[0mparams\u001b[0m\u001b[1;33m[\u001b[0m\u001b[1;34m'id'\u001b[0m\u001b[1;33m]\u001b[0m \u001b[1;33m=\u001b[0m \u001b[0mself\u001b[0m\u001b[1;33m.\u001b[0m\u001b[0m_id\u001b[0m\u001b[1;33m\u001b[0m\u001b[1;33m\u001b[0m\u001b[0m\n\u001b[1;32m--> 710\u001b[1;33m         \u001b[1;32mreturn\u001b[0m \u001b[0mself\u001b[0m\u001b[1;33m.\u001b[0m\u001b[0m_parent\u001b[0m\u001b[1;33m.\u001b[0m\u001b[0mexecute\u001b[0m\u001b[1;33m(\u001b[0m\u001b[0mcommand\u001b[0m\u001b[1;33m,\u001b[0m \u001b[0mparams\u001b[0m\u001b[1;33m)\u001b[0m\u001b[1;33m\u001b[0m\u001b[1;33m\u001b[0m\u001b[0m\n\u001b[0m\u001b[0;32m    711\u001b[0m \u001b[1;33m\u001b[0m\u001b[0m\n\u001b[0;32m    712\u001b[0m     \u001b[1;32mdef\u001b[0m \u001b[0mfind_element\u001b[0m\u001b[1;33m(\u001b[0m\u001b[0mself\u001b[0m\u001b[1;33m,\u001b[0m \u001b[0mby\u001b[0m\u001b[1;33m=\u001b[0m\u001b[0mBy\u001b[0m\u001b[1;33m.\u001b[0m\u001b[0mID\u001b[0m\u001b[1;33m,\u001b[0m \u001b[0mvalue\u001b[0m\u001b[1;33m=\u001b[0m\u001b[1;32mNone\u001b[0m\u001b[1;33m)\u001b[0m\u001b[1;33m:\u001b[0m\u001b[1;33m\u001b[0m\u001b[1;33m\u001b[0m\u001b[0m\n",
      "\u001b[1;32m~\\anaconda3\\lib\\site-packages\\selenium\\webdriver\\remote\\webdriver.py\u001b[0m in \u001b[0;36mexecute\u001b[1;34m(self, driver_command, params)\u001b[0m\n\u001b[0;32m    422\u001b[0m         \u001b[0mresponse\u001b[0m \u001b[1;33m=\u001b[0m \u001b[0mself\u001b[0m\u001b[1;33m.\u001b[0m\u001b[0mcommand_executor\u001b[0m\u001b[1;33m.\u001b[0m\u001b[0mexecute\u001b[0m\u001b[1;33m(\u001b[0m\u001b[0mdriver_command\u001b[0m\u001b[1;33m,\u001b[0m \u001b[0mparams\u001b[0m\u001b[1;33m)\u001b[0m\u001b[1;33m\u001b[0m\u001b[1;33m\u001b[0m\u001b[0m\n\u001b[0;32m    423\u001b[0m         \u001b[1;32mif\u001b[0m \u001b[0mresponse\u001b[0m\u001b[1;33m:\u001b[0m\u001b[1;33m\u001b[0m\u001b[1;33m\u001b[0m\u001b[0m\n\u001b[1;32m--> 424\u001b[1;33m             \u001b[0mself\u001b[0m\u001b[1;33m.\u001b[0m\u001b[0merror_handler\u001b[0m\u001b[1;33m.\u001b[0m\u001b[0mcheck_response\u001b[0m\u001b[1;33m(\u001b[0m\u001b[0mresponse\u001b[0m\u001b[1;33m)\u001b[0m\u001b[1;33m\u001b[0m\u001b[1;33m\u001b[0m\u001b[0m\n\u001b[0m\u001b[0;32m    425\u001b[0m             response['value'] = self._unwrap_value(\n\u001b[0;32m    426\u001b[0m                 response.get('value', None))\n",
      "\u001b[1;32m~\\anaconda3\\lib\\site-packages\\selenium\\webdriver\\remote\\errorhandler.py\u001b[0m in \u001b[0;36mcheck_response\u001b[1;34m(self, response)\u001b[0m\n\u001b[0;32m    245\u001b[0m                 \u001b[0malert_text\u001b[0m \u001b[1;33m=\u001b[0m \u001b[0mvalue\u001b[0m\u001b[1;33m[\u001b[0m\u001b[1;34m'alert'\u001b[0m\u001b[1;33m]\u001b[0m\u001b[1;33m.\u001b[0m\u001b[0mget\u001b[0m\u001b[1;33m(\u001b[0m\u001b[1;34m'text'\u001b[0m\u001b[1;33m)\u001b[0m\u001b[1;33m\u001b[0m\u001b[1;33m\u001b[0m\u001b[0m\n\u001b[0;32m    246\u001b[0m             \u001b[1;32mraise\u001b[0m \u001b[0mexception_class\u001b[0m\u001b[1;33m(\u001b[0m\u001b[0mmessage\u001b[0m\u001b[1;33m,\u001b[0m \u001b[0mscreen\u001b[0m\u001b[1;33m,\u001b[0m \u001b[0mstacktrace\u001b[0m\u001b[1;33m,\u001b[0m \u001b[0malert_text\u001b[0m\u001b[1;33m)\u001b[0m  \u001b[1;31m# type: ignore[call-arg]  # mypy is not smart enough here\u001b[0m\u001b[1;33m\u001b[0m\u001b[1;33m\u001b[0m\u001b[0m\n\u001b[1;32m--> 247\u001b[1;33m         \u001b[1;32mraise\u001b[0m \u001b[0mexception_class\u001b[0m\u001b[1;33m(\u001b[0m\u001b[0mmessage\u001b[0m\u001b[1;33m,\u001b[0m \u001b[0mscreen\u001b[0m\u001b[1;33m,\u001b[0m \u001b[0mstacktrace\u001b[0m\u001b[1;33m)\u001b[0m\u001b[1;33m\u001b[0m\u001b[1;33m\u001b[0m\u001b[0m\n\u001b[0m\u001b[0;32m    248\u001b[0m \u001b[1;33m\u001b[0m\u001b[0m\n\u001b[0;32m    249\u001b[0m     \u001b[1;32mdef\u001b[0m \u001b[0m_value_or_default\u001b[0m\u001b[1;33m(\u001b[0m\u001b[0mself\u001b[0m\u001b[1;33m,\u001b[0m \u001b[0mobj\u001b[0m\u001b[1;33m:\u001b[0m \u001b[0mMapping\u001b[0m\u001b[1;33m[\u001b[0m\u001b[0m_KT\u001b[0m\u001b[1;33m,\u001b[0m \u001b[0m_VT\u001b[0m\u001b[1;33m]\u001b[0m\u001b[1;33m,\u001b[0m \u001b[0mkey\u001b[0m\u001b[1;33m:\u001b[0m \u001b[0m_KT\u001b[0m\u001b[1;33m,\u001b[0m \u001b[0mdefault\u001b[0m\u001b[1;33m:\u001b[0m \u001b[0m_VT\u001b[0m\u001b[1;33m)\u001b[0m \u001b[1;33m->\u001b[0m \u001b[0m_VT\u001b[0m\u001b[1;33m:\u001b[0m\u001b[1;33m\u001b[0m\u001b[1;33m\u001b[0m\u001b[0m\n",
      "\u001b[1;31mElementClickInterceptedException\u001b[0m: Message: element click intercepted: Element <div class=\"RHo1pe\">...</div> is not clickable at point (347, 894). Other element would receive the click: <div class=\"mjANdc eEPege\">...</div>\n  (Session info: chrome=98.0.4758.102)\nStacktrace:\nBacktrace:\n\tOrdinal0 [0x00FF69A3+2582947]\n\tOrdinal0 [0x00F8A6D1+2139857]\n\tOrdinal0 [0x00E83A98+1063576]\n\tOrdinal0 [0x00EB636F+1270639]\n\tOrdinal0 [0x00EB45B7+1263031]\n\tOrdinal0 [0x00EB220B+1253899]\n\tOrdinal0 [0x00EB0FF9+1249273]\n\tOrdinal0 [0x00EA6B53+1207123]\n\tOrdinal0 [0x00EC854C+1344844]\n\tOrdinal0 [0x00EA6524+1205540]\n\tOrdinal0 [0x00EC86A4+1345188]\n\tOrdinal0 [0x00ED834A+1409866]\n\tOrdinal0 [0x00EC8366+1344358]\n\tOrdinal0 [0x00EA5176+1200502]\n\tOrdinal0 [0x00EA6066+1204326]\n\tGetHandleVerifier [0x0119BE02+1675858]\n\tGetHandleVerifier [0x0125036C+2414524]\n\tGetHandleVerifier [0x0108BB01+560977]\n\tGetHandleVerifier [0x0108A8D3+556323]\n\tOrdinal0 [0x00F9020E+2163214]\n\tOrdinal0 [0x00F95078+2183288]\n\tOrdinal0 [0x00F951C0+2183616]\n\tOrdinal0 [0x00F9EE1C+2223644]\n\tBaseThreadInitThunk [0x7652FA29+25]\n\tRtlGetAppContainerNamedObjectPath [0x77AD7A9E+286]\n\tRtlGetAppContainerNamedObjectPath [0x77AD7A6E+238]\n"
     ]
    }
   ],
   "source": [
    "for i in range(40,7001,40):\n",
    "    driver.implicitly_wait(10) #4초 대기\n",
    "    driver.find_element_by_xpath(f\"\"\"//*[@id=\"yDmH0d\"]/div[4]/div[2]/div/div/div/div/div[2]/div/div[1]/div[{i}]\"\"\").click()"
   ]
  },
  {
   "cell_type": "code",
   "execution_count": 31,
   "metadata": {},
   "outputs": [],
   "source": [
    "review_df = pd.DataFrame(columns=['리뷰'])"
   ]
  },
  {
   "cell_type": "code",
   "execution_count": null,
   "metadata": {},
   "outputs": [],
   "source": []
  },
  {
   "cell_type": "code",
   "execution_count": null,
   "metadata": {},
   "outputs": [],
   "source": []
  },
  {
   "cell_type": "markdown",
   "metadata": {
    "id": "o01fuNOWb7um"
   },
   "source": [
    "특수경우 점검: 전체 리뷰 버튼 클릭 후 새로운 루트로 리뷰 출력"
   ]
  },
  {
   "cell_type": "code",
   "execution_count": 29,
   "metadata": {
    "id": "5z8n1wA7ZAl8"
   },
   "outputs": [
    {
     "name": "stderr",
     "output_type": "stream",
     "text": [
      "C:\\Users\\zls99\\AppData\\Local\\Temp/ipykernel_9760/1054994916.py:4: DeprecationWarning: find_element_by_* commands are deprecated. Please use find_element() instead\n",
      "  reviews = driver.find_element_by_xpath(f\"\"\"//*[@id=\"yDmH0d\"]/div[4]/div[2]/div/div/div/div/div[2]/div/div[1]/div[{i}]/div[1]\"\"\")\n"
     ]
    }
   ],
   "source": [
    "reviews_ls = []\n",
    "for i in range(1, 1601):\n",
    "\n",
    "    reviews = driver.find_element_by_xpath(f\"\"\"//*[@id=\"yDmH0d\"]/div[4]/div[2]/div/div/div/div/div[2]/div/div[1]/div[{i}]/div[1]\"\"\")\n",
    "    reviews_ls.append(reviews.text)"
   ]
  },
  {
   "cell_type": "code",
   "execution_count": 32,
   "metadata": {},
   "outputs": [],
   "source": [
    "review_df[\"리뷰\"] = reviews_ls"
   ]
  },
  {
   "cell_type": "code",
   "execution_count": 35,
   "metadata": {},
   "outputs": [],
   "source": [
    "review_df.to_csv('olive_app_review.csv', encoding=\"utf-8-sig\")"
   ]
  },
  {
   "cell_type": "code",
   "execution_count": null,
   "metadata": {},
   "outputs": [],
   "source": [
    "for review in reviews\n",
    "    rv = review.find_elements_by_xpath(\"\"\"//*[@id=\"yDmH0d\"]/div[4]/div[2]/div/div/div/div/div[2]/div/div[1]/div[{i}]/div[1]\"\"\")"
   ]
  },
  {
   "cell_type": "markdown",
   "metadata": {
    "id": "cSMjiMeKcBYL"
   },
   "source": [
    "type(reviews)"
   ]
  },
  {
   "cell_type": "code",
   "execution_count": 17,
   "metadata": {},
   "outputs": [
    {
     "name": "stdout",
     "output_type": "stream",
     "text": [
      "[<selenium.webdriver.remote.webelement.WebElement (session=\"db32de95cd5d652ec4ef8d9c2d938ee2\", element=\"4cc46b04-7629-4ae5-b0fd-b844b7b3c618\")>]\n"
     ]
    }
   ],
   "source": [
    "print(reviews)"
   ]
  },
  {
   "cell_type": "code",
   "execution_count": null,
   "metadata": {
    "id": "68ofjMDncF56"
   },
   "outputs": [],
   "source": [
    "reviews = driver.find_element_by_xpath(\"/html/body/div[1]/div[4]/c-wiz[2]/div/div[2]/div/div/main/div/div[1]/div[2]/div/div[3]/div/div[2]/div[2]/span[1]\")\n",
    "print(len(reviews.text))"
   ]
  },
  {
   "cell_type": "code",
   "execution_count": null,
   "metadata": {
    "id": "H8NOsdRZcKMY"
   },
   "outputs": [],
   "source": [
    "reviews = driver.find_element_by_xpath(\"/html/body/div[1]/div[4]/c-wiz[2]/div/div[2]/div/div/main/div/div[1]/div[2]/div/div[7]/div/div[2]/div[2]/span[1]\")\n",
    "print(len(reviews.text))"
   ]
  },
  {
   "cell_type": "markdown",
   "metadata": {
    "id": "t31h8e_acN4-"
   },
   "source": [
    "길이에 따른 버튼 누르기"
   ]
  },
  {
   "cell_type": "code",
   "execution_count": null,
   "metadata": {
    "id": "GCmMidr1cNF2"
   },
   "outputs": [],
   "source": [
    "for i in range(1,20):\n",
    "    reviews = driver.find_element_by_xpath(f\"/html/body/div[1]/div[4]/c-wiz[2]/div/div[2]/div/div/main/div/div[1]/div[2]/div/div[{i}]/div/div[2]/div[2]/span[1]\")\n",
    "    if len(reviews.text)>=309:\n",
    "        driver.find_element_by_xpath(f'//*[@id=\"fcxH9b\"]/div[4]/c-wiz[2]/div/div[2]/div/div/main/div/div[1]/div[2]/div/div[{i}]/div/div[2]/div[2]/span[1]/div/button').click()\n",
    "        new_reviews = driver.find_element_by_xpath(f\"/html/body/div[1]/div[4]/c-wiz[2]/div/div[2]/div/div/main/div/div[1]/div[2]/div/div[{i}]/div/div[2]/div[2]/span[2]\")\n",
    "        print(new_reviews.text)\n",
    "    else:\n",
    "        new_reviews = driver.find_element_by_xpath(f\"/html/body/div[1]/div[4]/c-wiz[2]/div/div[2]/div/div/main/div/div[1]/div[2]/div/div[{i}]/div/div[2]/div[2]/span[1]\")\n",
    "        print(new_reviews.text)"
   ]
  }
 ],
 "metadata": {
  "colab": {
   "collapsed_sections": [],
   "name": "review_project.ipynb",
   "provenance": []
  },
  "kernelspec": {
   "display_name": "Python 3 (ipykernel)",
   "language": "python",
   "name": "python3"
  },
  "language_info": {
   "codemirror_mode": {
    "name": "ipython",
    "version": 3
   },
   "file_extension": ".py",
   "mimetype": "text/x-python",
   "name": "python",
   "nbconvert_exporter": "python",
   "pygments_lexer": "ipython3",
   "version": "3.9.7"
  }
 },
 "nbformat": 4,
 "nbformat_minor": 1
}
>>>>>>> 27262593eb97b619099b1a252d592f8343f47d41
