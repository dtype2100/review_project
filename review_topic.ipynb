{
  "nbformat": 4,
  "nbformat_minor": 0,
  "metadata": {
    "colab": {
      "name": "review_topic",
      "provenance": []
    },
    "kernelspec": {
      "name": "python3",
      "display_name": "Python 3"
    },
    "language_info": {
      "name": "python"
    }
  },
  "cells": [
    {
      "cell_type": "code",
      "source": [
        "from google.colab import drive\n",
        "drive.mount('/content/drive')"
      ],
      "metadata": {
        "colab": {
          "base_uri": "https://localhost:8080/"
        },
        "id": "tCjo7_aWGo-Q",
        "outputId": "8ad59747-1f4b-41a7-f5d7-2c623645235d"
      },
      "execution_count": 1,
      "outputs": [
        {
          "output_type": "stream",
          "name": "stdout",
          "text": [
            "Drive already mounted at /content/drive; to attempt to forcibly remount, call drive.mount(\"/content/drive\", force_remount=True).\n"
          ]
        }
      ]
    },
    {
      "cell_type": "code",
      "source": [
        "from sklearn.feature_extraction.text import TfidfVectorizer\n",
        "from sklearn.decomposition import TruncatedSVD\n",
        "import pandas as pd"
      ],
      "metadata": {
        "id": "tZ7eKSLhG3rH"
      },
      "execution_count": 2,
      "outputs": []
    },
    {
      "cell_type": "code",
      "source": [
        "review_ls = pd.read_csv('/content/drive/MyDrive/Colab Notebooks/멀캠-프로젝트/스터디_프로젝트/review_project/olive_app_review_crawling_final.csv')"
      ],
      "metadata": {
        "id": "j97wnhZ_XxF4"
      },
      "execution_count": 3,
      "outputs": []
    },
    {
      "cell_type": "code",
      "source": [
        "review_ls.head()"
      ],
      "metadata": {
        "colab": {
          "base_uri": "https://localhost:8080/",
          "height": 760
        },
        "id": "Q2P6VZVLYH3g",
        "outputId": "f9983f15-fb8c-4e8c-c659-4ce3586b2cbf"
      },
      "execution_count": 4,
      "outputs": [
        {
          "output_type": "execute_result",
          "data": {
            "text/html": [
              "\n",
              "  <div id=\"df-478b0089-bfef-4c40-9af0-471b5103cf20\">\n",
              "    <div class=\"colab-df-container\">\n",
              "      <div>\n",
              "<style scoped>\n",
              "    .dataframe tbody tr th:only-of-type {\n",
              "        vertical-align: middle;\n",
              "    }\n",
              "\n",
              "    .dataframe tbody tr th {\n",
              "        vertical-align: top;\n",
              "    }\n",
              "\n",
              "    .dataframe thead th {\n",
              "        text-align: right;\n",
              "    }\n",
              "</style>\n",
              "<table border=\"1\" class=\"dataframe\">\n",
              "  <thead>\n",
              "    <tr style=\"text-align: right;\">\n",
              "      <th></th>\n",
              "      <th>Unnamed: 0</th>\n",
              "      <th>날짜</th>\n",
              "      <th>별점</th>\n",
              "      <th>내용</th>\n",
              "      <th>추천</th>\n",
              "    </tr>\n",
              "  </thead>\n",
              "  <tbody>\n",
              "    <tr>\n",
              "      <th>0</th>\n",
              "      <td>0</td>\n",
              "      <td>2022년 2월 7일</td>\n",
              "      <td>1</td>\n",
              "      <td>2/7 추가: 최신 버전 역시 여전히 느립니다. 피드백 반영도 안 하시면서 의견은 ...</td>\n",
              "      <td>238</td>\n",
              "    </tr>\n",
              "    <tr>\n",
              "      <th>1</th>\n",
              "      <td>1</td>\n",
              "      <td>2022년 2월 15일</td>\n",
              "      <td>1</td>\n",
              "      <td>앱이 너무 느림, 리뷰달때 확인도 없이 바로 달림 길게써서 포인트 받을라 했는데 못...</td>\n",
              "      <td>0</td>\n",
              "    </tr>\n",
              "    <tr>\n",
              "      <th>2</th>\n",
              "      <td>2</td>\n",
              "      <td>2022년 2월 8일</td>\n",
              "      <td>1</td>\n",
              "      <td>진짜 별 하나도 아깝다.. 내가 내 돈주고 물건사려고 하는데 어플이 너무 느려서 장...</td>\n",
              "      <td>0</td>\n",
              "    </tr>\n",
              "    <tr>\n",
              "      <th>3</th>\n",
              "      <td>3</td>\n",
              "      <td>2022년 2월 8일</td>\n",
              "      <td>1</td>\n",
              "      <td>아 진짜 뭐하자는건지 모르겠네요 화나서 리뷰 쓰러 왔더니 많은 분들이 이미 지적을 ...</td>\n",
              "      <td>0</td>\n",
              "    </tr>\n",
              "    <tr>\n",
              "      <th>4</th>\n",
              "      <td>4</td>\n",
              "      <td>2022년 2월 4일</td>\n",
              "      <td>1</td>\n",
              "      <td>왜 별점이 2점대지..?싶을정도로 혜택도 많고 개좋은데 ㅜㅜㅜㅠ ---&gt;원래 별점 ...</td>\n",
              "      <td>11명</td>\n",
              "    </tr>\n",
              "  </tbody>\n",
              "</table>\n",
              "</div>\n",
              "      <button class=\"colab-df-convert\" onclick=\"convertToInteractive('df-478b0089-bfef-4c40-9af0-471b5103cf20')\"\n",
              "              title=\"Convert this dataframe to an interactive table.\"\n",
              "              style=\"display:none;\">\n",
              "        \n",
              "  <svg xmlns=\"http://www.w3.org/2000/svg\" height=\"24px\"viewBox=\"0 0 24 24\"\n",
              "       width=\"24px\">\n",
              "    <path d=\"M0 0h24v24H0V0z\" fill=\"none\"/>\n",
              "    <path d=\"M18.56 5.44l.94 2.06.94-2.06 2.06-.94-2.06-.94-.94-2.06-.94 2.06-2.06.94zm-11 1L8.5 8.5l.94-2.06 2.06-.94-2.06-.94L8.5 2.5l-.94 2.06-2.06.94zm10 10l.94 2.06.94-2.06 2.06-.94-2.06-.94-.94-2.06-.94 2.06-2.06.94z\"/><path d=\"M17.41 7.96l-1.37-1.37c-.4-.4-.92-.59-1.43-.59-.52 0-1.04.2-1.43.59L10.3 9.45l-7.72 7.72c-.78.78-.78 2.05 0 2.83L4 21.41c.39.39.9.59 1.41.59.51 0 1.02-.2 1.41-.59l7.78-7.78 2.81-2.81c.8-.78.8-2.07 0-2.86zM5.41 20L4 18.59l7.72-7.72 1.47 1.35L5.41 20z\"/>\n",
              "  </svg>\n",
              "      </button>\n",
              "      \n",
              "  <style>\n",
              "    .colab-df-container {\n",
              "      display:flex;\n",
              "      flex-wrap:wrap;\n",
              "      gap: 12px;\n",
              "    }\n",
              "\n",
              "    .colab-df-convert {\n",
              "      background-color: #E8F0FE;\n",
              "      border: none;\n",
              "      border-radius: 50%;\n",
              "      cursor: pointer;\n",
              "      display: none;\n",
              "      fill: #1967D2;\n",
              "      height: 32px;\n",
              "      padding: 0 0 0 0;\n",
              "      width: 32px;\n",
              "    }\n",
              "\n",
              "    .colab-df-convert:hover {\n",
              "      background-color: #E2EBFA;\n",
              "      box-shadow: 0px 1px 2px rgba(60, 64, 67, 0.3), 0px 1px 3px 1px rgba(60, 64, 67, 0.15);\n",
              "      fill: #174EA6;\n",
              "    }\n",
              "\n",
              "    [theme=dark] .colab-df-convert {\n",
              "      background-color: #3B4455;\n",
              "      fill: #D2E3FC;\n",
              "    }\n",
              "\n",
              "    [theme=dark] .colab-df-convert:hover {\n",
              "      background-color: #434B5C;\n",
              "      box-shadow: 0px 1px 3px 1px rgba(0, 0, 0, 0.15);\n",
              "      filter: drop-shadow(0px 1px 2px rgba(0, 0, 0, 0.3));\n",
              "      fill: #FFFFFF;\n",
              "    }\n",
              "  </style>\n",
              "\n",
              "      <script>\n",
              "        const buttonEl =\n",
              "          document.querySelector('#df-478b0089-bfef-4c40-9af0-471b5103cf20 button.colab-df-convert');\n",
              "        buttonEl.style.display =\n",
              "          google.colab.kernel.accessAllowed ? 'block' : 'none';\n",
              "\n",
              "        async function convertToInteractive(key) {\n",
              "          const element = document.querySelector('#df-478b0089-bfef-4c40-9af0-471b5103cf20');\n",
              "          const dataTable =\n",
              "            await google.colab.kernel.invokeFunction('convertToInteractive',\n",
              "                                                     [key], {});\n",
              "          if (!dataTable) return;\n",
              "\n",
              "          const docLinkHtml = 'Like what you see? Visit the ' +\n",
              "            '<a target=\"_blank\" href=https://colab.research.google.com/notebooks/data_table.ipynb>data table notebook</a>'\n",
              "            + ' to learn more about interactive tables.';\n",
              "          element.innerHTML = '';\n",
              "          dataTable['output_type'] = 'display_data';\n",
              "          await google.colab.output.renderOutput(dataTable, element);\n",
              "          const docLink = document.createElement('div');\n",
              "          docLink.innerHTML = docLinkHtml;\n",
              "          element.appendChild(docLink);\n",
              "        }\n",
              "      </script>\n",
              "    </div>\n",
              "  </div>\n",
              "  "
            ],
            "text/plain": [
              "   Unnamed: 0  ...   추천\n",
              "0           0  ...  238\n",
              "1           1  ...    0\n",
              "2           2  ...    0\n",
              "3           3  ...    0\n",
              "4           4  ...  11명\n",
              "\n",
              "[5 rows x 5 columns]"
            ]
          },
          "metadata": {},
          "execution_count": 4
        }
      ]
    },
    {
      "cell_type": "code",
      "source": [
        "n_topics = 4\n",
        "\n",
        "tfidf_vect = TfidfVectorizer()\n",
        "tfidf = tfidf_vect.fit_transform(review_ls)\n",
        "svd = TruncatedSVD(n_components=n_topics, n_iter=100)\n",
        "\n",
        "U = svd.fit_transform(tfidf)\n",
        "Vt = svd.components_"
      ],
      "metadata": {
        "id": "TzH315nEYNCQ"
      },
      "execution_count": 5,
      "outputs": []
    },
    {
      "cell_type": "code",
      "source": [
        "len(review_ls)"
      ],
      "metadata": {
        "colab": {
          "base_uri": "https://localhost:8080/"
        },
        "id": "uo4mdw74yHxv",
        "outputId": "af3519dd-8298-4903-8d7b-9a5c554c9bd9"
      },
      "execution_count": 6,
      "outputs": [
        {
          "output_type": "execute_result",
          "data": {
            "text/plain": [
              "2172"
            ]
          },
          "metadata": {},
          "execution_count": 6
        }
      ]
    },
    {
      "cell_type": "code",
      "source": [
        "U.shape"
      ],
      "metadata": {
        "colab": {
          "base_uri": "https://localhost:8080/"
        },
        "id": "boXEu93CyQJE",
        "outputId": "862d0a62-5780-4d0e-9eba-f77c4d883b29"
      },
      "execution_count": 7,
      "outputs": [
        {
          "output_type": "execute_result",
          "data": {
            "text/plain": [
              "(5, 4)"
            ]
          },
          "metadata": {},
          "execution_count": 7
        }
      ]
    },
    {
      "cell_type": "code",
      "source": [
        "Vt.shape"
      ],
      "metadata": {
        "colab": {
          "base_uri": "https://localhost:8080/"
        },
        "id": "5ica0REuyRcg",
        "outputId": "dddc9260-3d2e-488b-c58c-8cde07cf954c"
      },
      "execution_count": 8,
      "outputs": [
        {
          "output_type": "execute_result",
          "data": {
            "text/plain": [
              "(4, 5)"
            ]
          },
          "metadata": {},
          "execution_count": 8
        }
      ]
    },
    {
      "cell_type": "code",
      "source": [
        "tfidf.shape"
      ],
      "metadata": {
        "colab": {
          "base_uri": "https://localhost:8080/"
        },
        "id": "dN3aYGpjySaq",
        "outputId": "fd7b3f8c-148c-40dc-e592-0b3689c6b9f2"
      },
      "execution_count": 9,
      "outputs": [
        {
          "output_type": "execute_result",
          "data": {
            "text/plain": [
              "(5, 5)"
            ]
          },
          "metadata": {},
          "execution_count": 9
        }
      ]
    },
    {
      "cell_type": "code",
      "source": [
        "vocab =  tfidf_vect.get_feature_names_out()\n",
        "print(len(vocab))"
      ],
      "metadata": {
        "colab": {
          "base_uri": "https://localhost:8080/"
        },
        "id": "mtPZ-2JiyT7C",
        "outputId": "9790f1f9-d841-4155-db9a-103513e7d914"
      },
      "execution_count": 10,
      "outputs": [
        {
          "output_type": "stream",
          "name": "stdout",
          "text": [
            "5\n"
          ]
        }
      ]
    },
    {
      "cell_type": "code",
      "source": [
        "Vt"
      ],
      "metadata": {
        "colab": {
          "base_uri": "https://localhost:8080/"
        },
        "id": "4LxywaovyVJ6",
        "outputId": "1e0e059e-a68e-4c01-efac-d0d1dc083b6d"
      },
      "execution_count": 11,
      "outputs": [
        {
          "output_type": "execute_result",
          "data": {
            "text/plain": [
              "array([[ 0.        , -0.48507125,  0.        ,  0.48507125,  0.72760688],\n",
              "       [ 0.        ,  0.80033725, -0.35897908,  0.39855954,  0.26785181],\n",
              "       [-0.        ,  0.30782202,  0.93334561,  0.15329213,  0.10301993],\n",
              "       [ 1.        ,  0.        ,  0.        ,  0.        ,  0.        ]])"
            ]
          },
          "metadata": {},
          "execution_count": 11
        }
      ]
    },
    {
      "cell_type": "code",
      "source": [
        "n = 4\n",
        "for i, topic in enumerate(Vt):\n",
        "    print(\"Topic {} :\".format(i), [ (vocab[i], topic[i].round(3)) for i in topic.argsort()[:-n-1:-1]])"
      ],
      "metadata": {
        "colab": {
          "base_uri": "https://localhost:8080/"
        },
        "id": "s1mhpsz3yWVw",
        "outputId": "71495971-7a49-4683-bf68-99f73975f70e"
      },
      "execution_count": 12,
      "outputs": [
        {
          "output_type": "stream",
          "name": "stdout",
          "text": [
            "Topic 0 : [('추천', 0.728), ('별점', 0.485), ('내용', 0.0), ('unnamed', 0.0)]\n",
            "Topic 1 : [('날짜', 0.8), ('별점', 0.399), ('추천', 0.268), ('unnamed', 0.0)]\n",
            "Topic 2 : [('내용', 0.933), ('날짜', 0.308), ('별점', 0.153), ('추천', 0.103)]\n",
            "Topic 3 : [('unnamed', 1.0), ('추천', 0.0), ('별점', 0.0), ('내용', 0.0)]\n"
          ]
        }
      ]
    },
    {
      "cell_type": "code",
      "source": [
        "n = 3\n",
        "temp = [0, 1, 2, 3, 4, 5]\n",
        "temp[:-n:-1]"
      ],
      "metadata": {
        "colab": {
          "base_uri": "https://localhost:8080/"
        },
        "id": "k6p1s9QoyYxF",
        "outputId": "2b85f884-e57f-4465-f1e7-03d5831c9cc2"
      },
      "execution_count": 13,
      "outputs": [
        {
          "output_type": "execute_result",
          "data": {
            "text/plain": [
              "[5, 4]"
            ]
          },
          "metadata": {},
          "execution_count": 13
        }
      ]
    },
    {
      "cell_type": "code",
      "source": [
        "import numpy as np\n",
        "from numpy import dot\n",
        "from numpy.linalg import norm\n",
        "\n",
        "def cosine_similarity(a, b):\n",
        "    return dot(a, b) / (norm(a) * norm(b))\n",
        "\n",
        "def calc_similarity_matrix(vectors):\n",
        "    \n",
        "    n_word = len(vectors)\n",
        "    similarity_matrix = np.zeros((n_word, n_word))\n",
        "    \n",
        "    for i in range(n_word):\n",
        "        for j in range(n_word):\n",
        "            similarity_matrix[i, j] = cosine_similarity(vectors[i], vectors[j]).round(3)\n",
        "            \n",
        "    return similarity_matrix\n"
      ],
      "metadata": {
        "id": "uzNVUcaSybip"
      },
      "execution_count": 14,
      "outputs": []
    },
    {
      "cell_type": "code",
      "source": [
        "vectors = Vt.T\n",
        "word_similarity_matrix = calc_similarity_matrix(vectors)\n",
        "word_similarity_matrix.shape"
      ],
      "metadata": {
        "colab": {
          "base_uri": "https://localhost:8080/"
        },
        "id": "R18jl8I9a329",
        "outputId": "f5578206-3b7b-4073-e80a-e60f3f60e81d"
      },
      "execution_count": 15,
      "outputs": [
        {
          "output_type": "execute_result",
          "data": {
            "text/plain": [
              "(5, 5)"
            ]
          },
          "metadata": {},
          "execution_count": 15
        }
      ]
    },
    {
      "cell_type": "code",
      "source": [
        "import matplotlib.pyplot as plt\n",
        "import seaborn as sns\n",
        "\n",
        "plt.rc(\"font\", family=\"Malgun Gothic\") #windows\n",
        "# plt.rc(\"font\", family=\"AppleGothic\") #mac\n",
        "\n",
        "def visualize_similarity(similarity_matrix, label):\n",
        "    mask = np.triu(np.ones_like(similarity_matrix, dtype=np.bool))\n",
        "    plt.rcParams['figure.figsize'] = [8, 6]\n",
        "    ax = sns.heatmap(similarity_matrix, mask=mask, xticklabels=label, yticklabels=label, \n",
        "                     annot=True, fmt=\".2f\", annot_kws={\"size\":8}, cmap=\"coolwarm\") "
      ],
      "metadata": {
        "id": "So9Aw8qUydHM"
      },
      "execution_count": 16,
      "outputs": []
    },
    {
      "cell_type": "code",
      "source": [
        "visualize_similarity(word_similarity_matrix, vocab)"
      ],
      "metadata": {
        "colab": {
          "base_uri": "https://localhost:8080/",
          "height": 1000
        },
        "id": "THjtKaLrye-6",
        "outputId": "77b87824-5457-4ac2-f2af-c173046405ec"
      },
      "execution_count": 17,
      "outputs": [
        {
          "output_type": "stream",
          "name": "stderr",
          "text": [
            "/usr/local/lib/python3.7/dist-packages/ipykernel_launcher.py:8: DeprecationWarning: `np.bool` is a deprecated alias for the builtin `bool`. To silence this warning, use `bool` by itself. Doing this will not modify any behavior and is safe. If you specifically wanted the numpy scalar type, use `np.bool_` here.\n",
            "Deprecated in NumPy 1.20; for more details and guidance: https://numpy.org/devdocs/release/1.20.0-notes.html#deprecations\n",
            "  \n",
            "findfont: Font family ['Malgun Gothic'] not found. Falling back to DejaVu Sans.\n",
            "/usr/local/lib/python3.7/dist-packages/matplotlib/backends/backend_agg.py:214: RuntimeWarning: Glyph 45216 missing from current font.\n",
            "  font.set_text(s, 0.0, flags=flags)\n",
            "/usr/local/lib/python3.7/dist-packages/matplotlib/backends/backend_agg.py:214: RuntimeWarning: Glyph 51676 missing from current font.\n",
            "  font.set_text(s, 0.0, flags=flags)\n",
            "/usr/local/lib/python3.7/dist-packages/matplotlib/backends/backend_agg.py:214: RuntimeWarning: Glyph 45236 missing from current font.\n",
            "  font.set_text(s, 0.0, flags=flags)\n",
            "/usr/local/lib/python3.7/dist-packages/matplotlib/backends/backend_agg.py:214: RuntimeWarning: Glyph 50857 missing from current font.\n",
            "  font.set_text(s, 0.0, flags=flags)\n",
            "/usr/local/lib/python3.7/dist-packages/matplotlib/backends/backend_agg.py:214: RuntimeWarning: Glyph 48324 missing from current font.\n",
            "  font.set_text(s, 0.0, flags=flags)\n",
            "/usr/local/lib/python3.7/dist-packages/matplotlib/backends/backend_agg.py:214: RuntimeWarning: Glyph 51216 missing from current font.\n",
            "  font.set_text(s, 0.0, flags=flags)\n",
            "/usr/local/lib/python3.7/dist-packages/matplotlib/backends/backend_agg.py:214: RuntimeWarning: Glyph 52628 missing from current font.\n",
            "  font.set_text(s, 0.0, flags=flags)\n",
            "/usr/local/lib/python3.7/dist-packages/matplotlib/backends/backend_agg.py:214: RuntimeWarning: Glyph 52380 missing from current font.\n",
            "  font.set_text(s, 0.0, flags=flags)\n",
            "/usr/local/lib/python3.7/dist-packages/matplotlib/backends/backend_agg.py:183: RuntimeWarning: Glyph 45216 missing from current font.\n",
            "  font.set_text(s, 0, flags=flags)\n",
            "/usr/local/lib/python3.7/dist-packages/matplotlib/backends/backend_agg.py:183: RuntimeWarning: Glyph 51676 missing from current font.\n",
            "  font.set_text(s, 0, flags=flags)\n",
            "/usr/local/lib/python3.7/dist-packages/matplotlib/backends/backend_agg.py:183: RuntimeWarning: Glyph 45236 missing from current font.\n",
            "  font.set_text(s, 0, flags=flags)\n",
            "/usr/local/lib/python3.7/dist-packages/matplotlib/backends/backend_agg.py:183: RuntimeWarning: Glyph 50857 missing from current font.\n",
            "  font.set_text(s, 0, flags=flags)\n",
            "/usr/local/lib/python3.7/dist-packages/matplotlib/backends/backend_agg.py:183: RuntimeWarning: Glyph 48324 missing from current font.\n",
            "  font.set_text(s, 0, flags=flags)\n",
            "/usr/local/lib/python3.7/dist-packages/matplotlib/backends/backend_agg.py:183: RuntimeWarning: Glyph 51216 missing from current font.\n",
            "  font.set_text(s, 0, flags=flags)\n",
            "/usr/local/lib/python3.7/dist-packages/matplotlib/backends/backend_agg.py:183: RuntimeWarning: Glyph 52628 missing from current font.\n",
            "  font.set_text(s, 0, flags=flags)\n",
            "/usr/local/lib/python3.7/dist-packages/matplotlib/backends/backend_agg.py:183: RuntimeWarning: Glyph 52380 missing from current font.\n",
            "  font.set_text(s, 0, flags=flags)\n",
            "findfont: Font family ['Malgun Gothic'] not found. Falling back to DejaVu Sans.\n"
          ]
        },
        {
          "output_type": "display_data",
          "data": {
            "image/png": "[encoded data removed]",
            "text/plain": [
              "<Figure size 576x432 with 2 Axes>"
            ]
          },
          "metadata": {
            "needs_background": "light"
          }
        }
      ]
    },
    {
      "cell_type": "code",
      "source": [
        "doc_similarity_matrix = calc_similarity_matrix(U)\n",
        "visualize_similarity(doc_similarity_matrix, review_ls)"
      ],
      "metadata": {
        "colab": {
          "base_uri": "https://localhost:8080/",
          "height": 1000
        },
        "id": "ck_W2HRKygT4",
        "outputId": "abb7ffc4-7105-45e3-d40f-23a07f610bdd"
      },
      "execution_count": 18,
      "outputs": [
        {
          "output_type": "stream",
          "name": "stderr",
          "text": [
            "/usr/local/lib/python3.7/dist-packages/ipykernel_launcher.py:8: DeprecationWarning: `np.bool` is a deprecated alias for the builtin `bool`. To silence this warning, use `bool` by itself. Doing this will not modify any behavior and is safe. If you specifically wanted the numpy scalar type, use `np.bool_` here.\n",
            "Deprecated in NumPy 1.20; for more details and guidance: https://numpy.org/devdocs/release/1.20.0-notes.html#deprecations\n",
            "  \n",
            "/usr/local/lib/python3.7/dist-packages/matplotlib/backends/backend_agg.py:214: RuntimeWarning: Glyph 45216 missing from current font.\n",
            "  font.set_text(s, 0.0, flags=flags)\n",
            "/usr/local/lib/python3.7/dist-packages/matplotlib/backends/backend_agg.py:214: RuntimeWarning: Glyph 51676 missing from current font.\n",
            "  font.set_text(s, 0.0, flags=flags)\n",
            "/usr/local/lib/python3.7/dist-packages/matplotlib/backends/backend_agg.py:214: RuntimeWarning: Glyph 48324 missing from current font.\n",
            "  font.set_text(s, 0.0, flags=flags)\n",
            "/usr/local/lib/python3.7/dist-packages/matplotlib/backends/backend_agg.py:214: RuntimeWarning: Glyph 51216 missing from current font.\n",
            "  font.set_text(s, 0.0, flags=flags)\n",
            "/usr/local/lib/python3.7/dist-packages/matplotlib/backends/backend_agg.py:214: RuntimeWarning: Glyph 45236 missing from current font.\n",
            "  font.set_text(s, 0.0, flags=flags)\n",
            "/usr/local/lib/python3.7/dist-packages/matplotlib/backends/backend_agg.py:214: RuntimeWarning: Glyph 50857 missing from current font.\n",
            "  font.set_text(s, 0.0, flags=flags)\n",
            "/usr/local/lib/python3.7/dist-packages/matplotlib/backends/backend_agg.py:214: RuntimeWarning: Glyph 52628 missing from current font.\n",
            "  font.set_text(s, 0.0, flags=flags)\n",
            "/usr/local/lib/python3.7/dist-packages/matplotlib/backends/backend_agg.py:214: RuntimeWarning: Glyph 52380 missing from current font.\n",
            "  font.set_text(s, 0.0, flags=flags)\n",
            "/usr/local/lib/python3.7/dist-packages/matplotlib/backends/backend_agg.py:183: RuntimeWarning: Glyph 45216 missing from current font.\n",
            "  font.set_text(s, 0, flags=flags)\n",
            "/usr/local/lib/python3.7/dist-packages/matplotlib/backends/backend_agg.py:183: RuntimeWarning: Glyph 51676 missing from current font.\n",
            "  font.set_text(s, 0, flags=flags)\n",
            "/usr/local/lib/python3.7/dist-packages/matplotlib/backends/backend_agg.py:183: RuntimeWarning: Glyph 48324 missing from current font.\n",
            "  font.set_text(s, 0, flags=flags)\n",
            "/usr/local/lib/python3.7/dist-packages/matplotlib/backends/backend_agg.py:183: RuntimeWarning: Glyph 51216 missing from current font.\n",
            "  font.set_text(s, 0, flags=flags)\n",
            "/usr/local/lib/python3.7/dist-packages/matplotlib/backends/backend_agg.py:183: RuntimeWarning: Glyph 45236 missing from current font.\n",
            "  font.set_text(s, 0, flags=flags)\n",
            "/usr/local/lib/python3.7/dist-packages/matplotlib/backends/backend_agg.py:183: RuntimeWarning: Glyph 50857 missing from current font.\n",
            "  font.set_text(s, 0, flags=flags)\n",
            "/usr/local/lib/python3.7/dist-packages/matplotlib/backends/backend_agg.py:183: RuntimeWarning: Glyph 52628 missing from current font.\n",
            "  font.set_text(s, 0, flags=flags)\n",
            "/usr/local/lib/python3.7/dist-packages/matplotlib/backends/backend_agg.py:183: RuntimeWarning: Glyph 52380 missing from current font.\n",
            "  font.set_text(s, 0, flags=flags)\n"
          ]
        },
        {
          "output_type": "display_data",
          "data": {
            "image/png": "[encoded data removed]",
            "text/plain": [
              "<Figure size 576x432 with 2 Axes>"
            ]
          },
          "metadata": {
            "needs_background": "light"
          }
        }
      ]
    },
    {
      "cell_type": "code",
      "source": [
        "from sklearn.manifold import TSNE\n",
        "\n",
        "def visualize_vectors(vectors, labels):\n",
        "    tsne = TSNE(n_components=2, n_iter=10000, perplexity=2)\n",
        "    T = tsne.fit_transform(vectors)\n",
        "    \n",
        "    plt.figure(figsize=(10, 6))\n",
        "    plt.scatter(T[:, 0], T[:, 1], c='orange', edgecolors='r')\n",
        "    for label, x, y in zip(labels, T[:, 0], T[:, 1]):\n",
        "        plt.annotate(label, xy=(x+1, y+1), xytext=(0, 0), textcoords=\"offset points\")\n"
      ],
      "metadata": {
        "id": "fx0z7pk3ykkS"
      },
      "execution_count": 19,
      "outputs": []
    },
    {
      "cell_type": "code",
      "source": [
        "visualize_vectors(vectors, vocab)"
      ],
      "metadata": {
        "colab": {
          "base_uri": "https://localhost:8080/",
          "height": 1000
        },
        "id": "zR4pF6egyvjH",
        "outputId": "c3b4b829-6f02-48a5-a14b-bce383521f9b"
      },
      "execution_count": 20,
      "outputs": [
        {
          "output_type": "stream",
          "name": "stderr",
          "text": [
            "/usr/local/lib/python3.7/dist-packages/sklearn/manifold/_t_sne.py:783: FutureWarning: The default initialization in TSNE will change from 'random' to 'pca' in 1.2.\n",
            "  FutureWarning,\n",
            "/usr/local/lib/python3.7/dist-packages/sklearn/manifold/_t_sne.py:793: FutureWarning: The default learning rate in TSNE will change from 200.0 to 'auto' in 1.2.\n",
            "  FutureWarning,\n",
            "/usr/local/lib/python3.7/dist-packages/matplotlib/backends/backend_agg.py:214: RuntimeWarning: Glyph 45216 missing from current font.\n",
            "  font.set_text(s, 0.0, flags=flags)\n",
            "/usr/local/lib/python3.7/dist-packages/matplotlib/backends/backend_agg.py:214: RuntimeWarning: Glyph 51676 missing from current font.\n",
            "  font.set_text(s, 0.0, flags=flags)\n",
            "/usr/local/lib/python3.7/dist-packages/matplotlib/backends/backend_agg.py:183: RuntimeWarning: Glyph 45216 missing from current font.\n",
            "  font.set_text(s, 0, flags=flags)\n",
            "/usr/local/lib/python3.7/dist-packages/matplotlib/backends/backend_agg.py:183: RuntimeWarning: Glyph 51676 missing from current font.\n",
            "  font.set_text(s, 0, flags=flags)\n",
            "/usr/local/lib/python3.7/dist-packages/matplotlib/backends/backend_agg.py:214: RuntimeWarning: Glyph 45236 missing from current font.\n",
            "  font.set_text(s, 0.0, flags=flags)\n",
            "/usr/local/lib/python3.7/dist-packages/matplotlib/backends/backend_agg.py:214: RuntimeWarning: Glyph 50857 missing from current font.\n",
            "  font.set_text(s, 0.0, flags=flags)\n",
            "/usr/local/lib/python3.7/dist-packages/matplotlib/backends/backend_agg.py:183: RuntimeWarning: Glyph 45236 missing from current font.\n",
            "  font.set_text(s, 0, flags=flags)\n",
            "/usr/local/lib/python3.7/dist-packages/matplotlib/backends/backend_agg.py:183: RuntimeWarning: Glyph 50857 missing from current font.\n",
            "  font.set_text(s, 0, flags=flags)\n",
            "/usr/local/lib/python3.7/dist-packages/matplotlib/backends/backend_agg.py:214: RuntimeWarning: Glyph 48324 missing from current font.\n",
            "  font.set_text(s, 0.0, flags=flags)\n",
            "/usr/local/lib/python3.7/dist-packages/matplotlib/backends/backend_agg.py:214: RuntimeWarning: Glyph 51216 missing from current font.\n",
            "  font.set_text(s, 0.0, flags=flags)\n",
            "/usr/local/lib/python3.7/dist-packages/matplotlib/backends/backend_agg.py:183: RuntimeWarning: Glyph 48324 missing from current font.\n",
            "  font.set_text(s, 0, flags=flags)\n",
            "/usr/local/lib/python3.7/dist-packages/matplotlib/backends/backend_agg.py:183: RuntimeWarning: Glyph 51216 missing from current font.\n",
            "  font.set_text(s, 0, flags=flags)\n",
            "/usr/local/lib/python3.7/dist-packages/matplotlib/backends/backend_agg.py:214: RuntimeWarning: Glyph 52628 missing from current font.\n",
            "  font.set_text(s, 0.0, flags=flags)\n",
            "/usr/local/lib/python3.7/dist-packages/matplotlib/backends/backend_agg.py:214: RuntimeWarning: Glyph 52380 missing from current font.\n",
            "  font.set_text(s, 0.0, flags=flags)\n",
            "/usr/local/lib/python3.7/dist-packages/matplotlib/backends/backend_agg.py:183: RuntimeWarning: Glyph 52628 missing from current font.\n",
            "  font.set_text(s, 0, flags=flags)\n",
            "/usr/local/lib/python3.7/dist-packages/matplotlib/backends/backend_agg.py:183: RuntimeWarning: Glyph 52380 missing from current font.\n",
            "  font.set_text(s, 0, flags=flags)\n"
          ]
        },
        {
          "output_type": "display_data",
          "data": {
            "image/png": "[encoded data removed]",
            "text/plain": [
              "<Figure size 720x432 with 1 Axes>"
            ]
          },
          "metadata": {
            "needs_background": "light"
          }
        }
      ]
    },
    {
      "cell_type": "code",
      "source": [
        "import nltk\n",
        "nltk.download(\"stopwords\")\n",
        "from nltk.corpus import stopwords\n",
        "\n",
        "import pandas as pd\n",
        "from sklearn.datasets import fetch_20newsgroups\n",
        "\n",
        "\n",
        "dataset = fetch_20newsgroups(shuffle=True, random_state=42, remove=(\"headers\", \"footer\", \"quotes\"))\n"
      ],
      "metadata": {
        "colab": {
          "base_uri": "https://localhost:8080/"
        },
        "id": "3h3iBrzjyxjQ",
        "outputId": "d152ecb5-80df-49fa-dd02-288a75e5bff7"
      },
      "execution_count": 21,
      "outputs": [
        {
          "output_type": "stream",
          "name": "stdout",
          "text": [
            "[nltk_data] Downloading package stopwords to /root/nltk_data...\n",
            "[nltk_data]   Package stopwords is already up-to-date!\n"
          ]
        }
      ]
    },
    {
      "cell_type": "code",
      "source": [
        "!pip install pyLDAvis"
      ],
      "metadata": {
        "colab": {
          "base_uri": "https://localhost:8080/"
        },
        "id": "sFzwt4LTbnXk",
        "outputId": "8225ed03-71f3-4893-86e8-479d8aca3212"
      },
      "execution_count": 28,
      "outputs": [
        {
          "output_type": "stream",
          "name": "stdout",
          "text": [
            "Collecting pyLDAvis\n",
            "  Downloading pyLDAvis-3.3.1.tar.gz (1.7 MB)\n",
            "\u001b[K     |████████████████████████████████| 1.7 MB 5.3 MB/s \n",
            "\u001b[?25h  Installing build dependencies ... \u001b[?25l\u001b[?25hdone\n",
            "  Getting requirements to build wheel ... \u001b[?25l\u001b[?25hdone\n",
            "  Installing backend dependencies ... \u001b[?25l\u001b[?25hdone\n",
            "    Preparing wheel metadata ... \u001b[?25l\u001b[?25hdone\n",
            "Requirement already satisfied: numexpr in /usr/local/lib/python3.7/dist-packages (from pyLDAvis) (2.8.1)\n",
            "Requirement already satisfied: pandas>=1.2.0 in /usr/local/lib/python3.7/dist-packages (from pyLDAvis) (1.3.5)\n",
            "Requirement already satisfied: scikit-learn in /usr/local/lib/python3.7/dist-packages (from pyLDAvis) (1.0.2)\n",
            "Requirement already satisfied: joblib in /usr/local/lib/python3.7/dist-packages (from pyLDAvis) (1.1.0)\n",
            "Requirement already satisfied: numpy>=1.20.0 in /usr/local/lib/python3.7/dist-packages (from pyLDAvis) (1.21.5)\n",
            "Requirement already satisfied: scipy in /usr/local/lib/python3.7/dist-packages (from pyLDAvis) (1.4.1)\n",
            "Requirement already satisfied: gensim in /usr/local/lib/python3.7/dist-packages (from pyLDAvis) (3.6.0)\n",
            "Requirement already satisfied: jinja2 in /usr/local/lib/python3.7/dist-packages (from pyLDAvis) (2.11.3)\n",
            "Requirement already satisfied: sklearn in /usr/local/lib/python3.7/dist-packages (from pyLDAvis) (0.0)\n",
            "Collecting funcy\n",
            "  Downloading funcy-1.17-py2.py3-none-any.whl (33 kB)\n",
            "Requirement already satisfied: future in /usr/local/lib/python3.7/dist-packages (from pyLDAvis) (0.16.0)\n",
            "Requirement already satisfied: setuptools in /usr/local/lib/python3.7/dist-packages (from pyLDAvis) (57.4.0)\n",
            "Requirement already satisfied: python-dateutil>=2.7.3 in /usr/local/lib/python3.7/dist-packages (from pandas>=1.2.0->pyLDAvis) (2.8.2)\n",
            "Requirement already satisfied: pytz>=2017.3 in /usr/local/lib/python3.7/dist-packages (from pandas>=1.2.0->pyLDAvis) (2018.9)\n",
            "Requirement already satisfied: six>=1.5 in /usr/local/lib/python3.7/dist-packages (from python-dateutil>=2.7.3->pandas>=1.2.0->pyLDAvis) (1.15.0)\n",
            "Requirement already satisfied: smart-open>=1.2.1 in /usr/local/lib/python3.7/dist-packages (from gensim->pyLDAvis) (5.2.1)\n",
            "Requirement already satisfied: MarkupSafe>=0.23 in /usr/local/lib/python3.7/dist-packages (from jinja2->pyLDAvis) (2.0.1)\n",
            "Requirement already satisfied: packaging in /usr/local/lib/python3.7/dist-packages (from numexpr->pyLDAvis) (21.3)\n",
            "Requirement already satisfied: pyparsing!=3.0.5,>=2.0.2 in /usr/local/lib/python3.7/dist-packages (from packaging->numexpr->pyLDAvis) (3.0.7)\n",
            "Requirement already satisfied: threadpoolctl>=2.0.0 in /usr/local/lib/python3.7/dist-packages (from scikit-learn->pyLDAvis) (3.1.0)\n",
            "Building wheels for collected packages: pyLDAvis\n",
            "  Building wheel for pyLDAvis (PEP 517) ... \u001b[?25l\u001b[?25hdone\n",
            "  Created wheel for pyLDAvis: filename=pyLDAvis-3.3.1-py2.py3-none-any.whl size=136898 sha256=f9c219d8a53ba4647fed3d68e6e818ae90c1e5dd233909134e3403191161a417\n",
            "  Stored in directory: /root/.cache/pip/wheels/c9/21/f6/17bcf2667e8a68532ba2fbf6d5c72fdf4c7f7d9abfa4852d2f\n",
            "Successfully built pyLDAvis\n",
            "Installing collected packages: funcy, pyLDAvis\n",
            "Successfully installed funcy-1.17 pyLDAvis-3.3.1\n"
          ]
        }
      ]
    },
    {
      "cell_type": "code",
      "source": [
        "dataset['data'][:5]"
      ],
      "metadata": {
        "colab": {
          "base_uri": "https://localhost:8080/"
        },
        "id": "1eVERw6Jy2jn",
        "outputId": "a8a5ea0c-9592-4b13-e51f-fe36a150561b"
      },
      "execution_count": 29,
      "outputs": [
        {
          "output_type": "execute_result",
          "data": {
            "text/plain": [
              "[' I was wondering if anyone out there could enlighten me on this car I saw\\nthe other day. It was a 2-door sports car, looked to be from the late 60s/\\nearly 70s. It was called a Bricklin. The doors were really small. In addition,\\nthe front bumper was separate from the rest of the body. This is \\nall I know. If anyone can tellme a model name, engine specs, years\\nof production, where this car is made, history, or whatever info you\\nhave on this funky looking car, please e-mail.\\n\\nThanks,\\n- IL\\n   ---- brought to you by your neighborhood Lerxst ----\\n\\n\\n\\n\\n',\n",
              " \"A fair number of brave souls who upgraded their SI clock oscillator have\\nshared their experiences for this poll. Please send a brief message detailing\\nyour experiences with the procedure. Top speed attained, CPU rated speed,\\nadd on cards and adapters, heat sinks, hour of usage per day, floppy disk\\nfunctionality with 800 and 1.4 m floppies are especially requested.\\n\\nI will be summarizing in the next two days, so please add to the network\\nknowledge base if you have done the clock upgrade and haven't answered this\\npoll. Thanks.\\n\\nGuy Kuo <guykuo@u.washington.edu>\\n\",\n",
              " 'well folks, my mac plus finally gave up the ghost this weekend after\\nstarting life as a 512k way back in 1985.  sooo, i\\'m in the market for a\\nnew machine a bit sooner than i intended to be...\\n\\ni\\'m looking into picking up a powerbook 160 or maybe 180 and have a bunch\\nof questions that (hopefully) somebody can answer:\\n\\n* does anybody know any dirt on when the next round of powerbook\\nintroductions are expected?  i\\'d heard the 185c was supposed to make an\\nappearence \"this summer\" but haven\\'t heard anymore on it - and since i\\ndon\\'t have access to macleak, i was wondering if anybody out there had\\nmore info...\\n\\n* has anybody heard rumors about price drops to the powerbook line like the\\nones the duo\\'s just went through recently?\\n\\n* what\\'s the impression of the display on the 180?  i could probably swing\\na 180 if i got the 80Mb disk rather than the 120, but i don\\'t really have\\na feel for how much \"better\" the display is (yea, it looks great in the\\nstore, but is that all \"wow\" or is it really that good?).  could i solicit\\nsome opinions of people who use the 160 and 180 day-to-day on if its worth\\ntaking the disk size and money hit to get the active display?  (i realize\\nthis is a real subjective question, but i\\'ve only played around with the\\nmachines in a computer store breifly and figured the opinions of somebody\\nwho actually uses the machine daily might prove helpful).\\n\\n* how well does hellcats perform?  ;)\\n\\nthanks a bunch in advance for any info - if you could email, i\\'ll post a\\nsummary (news reading time is at a premium with finals just around the\\ncorner... :( )\\n--\\nTom Willis  \\\\  twillis@ecn.purdue.edu    \\\\    Purdue Electrical Engineering\\n---------------------------------------------------------------------------\\n\"Convictions are more dangerous enemies of truth than lies.\"  - F. W.\\nNietzsche\\n',\n",
              " '\\nDo you have Weitek\\'s address/phone number?  I\\'d like to get some information\\nabout this chip.\\n\\n--\\nJoe Green\\t\\t\\t\\tHarris Corporation\\njgreen@csd.harris.com\\t\\t\\tComputer Systems Division\\n\"The only thing that really scares me is a person with no sense of humor.\"\\n\\t\\t\\t\\t\\t\\t-- Jonathan Winters\\n',\n",
              " \"From article <C5owCB.n3p@world.std.com>, by tombaker@world.std.com (Tom A Baker):\\n\\n\\nMy understanding is that the 'expected errors' are basically\\nknown bugs in the warning system software - things are checked\\nthat don't have the right values in yet because they aren't\\nset till after launch, and suchlike. Rather than fix the code\\nand possibly introduce new bugs, they just tell the crew\\n'ok, if you see a warning no. 213 before liftoff, ignore it'.\\n\\n - Jonathan\\n\\n\\n\"]"
            ]
          },
          "metadata": {},
          "execution_count": 29
        }
      ]
    },
    {
      "cell_type": "code",
      "source": [
        "def get_news(news_dataset, apply_split=True):\n",
        "    documents = news_dataset.data\n",
        "    news_df = pd.DataFrame({\"document\": documents})\n",
        "    news_df[\"clean_doc\"] = news_df[\"document\"].str.replace(\"[^a-zA-Z]\", \" \")\n",
        "    news_df[\"clean_doc\"] = news_df[\"clean_doc\"].apply(lambda x : \" \".join([w.lower() for w in x.split() if len(w) > 2]))\n",
        "    tokenized_doc = news_df[\"clean_doc\"].apply(lambda x: x.split())\n",
        "    \n",
        "    stop_words = stopwords.words('english')\n",
        "    \n",
        "    if apply_split:\n",
        "        return tokenized_doc.apply(lambda x : [item for item in x if item not in stop_words])\n",
        "    else:\n",
        "        return tokenized_doc.apply(lambda x : \" \".join([item for item in x if item not in stop_words]))\n",
        "                                                      \n",
        "    "
      ],
      "metadata": {
        "id": "4cAVP88Gy5n6"
      },
      "execution_count": 30,
      "outputs": []
    },
    {
      "cell_type": "code",
      "source": [
        "tokenized_docs = get_news(dataset, False)"
      ],
      "metadata": {
        "colab": {
          "base_uri": "https://localhost:8080/"
        },
        "id": "FTH8k7U7y55H",
        "outputId": "939f9d47-dee0-4083-e7fe-c6cb9f85b62e"
      },
      "execution_count": 24,
      "outputs": [
        {
          "output_type": "stream",
          "name": "stderr",
          "text": [
            "/usr/local/lib/python3.7/dist-packages/ipykernel_launcher.py:4: FutureWarning: The default value of regex will change from True to False in a future version.\n",
            "  after removing the cwd from sys.path.\n"
          ]
        }
      ]
    },
    {
      "cell_type": "code",
      "source": [
        "tokenized_docs[0]"
      ],
      "metadata": {
        "colab": {
          "base_uri": "https://localhost:8080/",
          "height": 90
        },
        "id": "KcGfvc8Oy6IY",
        "outputId": "afa70fba-6dac-412b-94aa-77b5c65a8f07"
      },
      "execution_count": 31,
      "outputs": [
        {
          "output_type": "execute_result",
          "data": {
            "application/vnd.google.colaboratory.intrinsic+json": {
              "type": "string"
            },
            "text/plain": [
              "'wondering anyone could enlighten car saw day door sports car looked late early called bricklin doors really small addition front bumper separate rest body know anyone tellme model name engine specs years production car made history whatever info funky looking car please mail thanks brought neighborhood lerxst'"
            ]
          },
          "metadata": {},
          "execution_count": 31
        }
      ]
    },
    {
      "cell_type": "code",
      "source": [
        "from sklearn.feature_extraction.text import TfidfVectorizer\n",
        "from sklearn.decomposition import LatentDirichletAllocation\n",
        "\n",
        "tfidf_vect = TfidfVectorizer()\n",
        "tfidf = tfidf_vect.fit_transform(tokenized_docs)\n",
        "lda = LatentDirichletAllocation(n_components=5, max_iter=50, learning_method=\"online\", random_state=42)\n",
        "lda_output = lda.fit_transform(tfidf)"
      ],
      "metadata": {
        "id": "EPKQxya_y-Nd"
      },
      "execution_count": 32,
      "outputs": []
    },
    {
      "cell_type": "code",
      "source": [
        "import pyLDAvis\n",
        "import pyLDAvis.sklearn\n",
        "\n",
        "pyLDAvis.enable_notebook()\n",
        "vis = pyLDAvis.sklearn.prepare(lda, tfidf, tfidf_vect, mds=\"tsne\")\n",
        "pyLDAvis.display(vis)"
      ],
      "metadata": {
        "colab": {
          "base_uri": "https://localhost:8080/",
          "height": 1000
        },
        "id": "tMOdyCQyy-GU",
        "outputId": "d17b60a3-1870-4e85-db71-c7f2940db9f5"
      },
      "execution_count": 33,
      "outputs": [
        {
          "output_type": "stream",
          "name": "stderr",
          "text": [
            "/usr/local/lib/python3.7/dist-packages/past/types/oldstr.py:5: DeprecationWarning: Using or importing the ABCs from 'collections' instead of from 'collections.abc' is deprecated since Python 3.3,and in 3.9 it will stop working\n",
            "  from collections import Iterable\n",
            "/usr/local/lib/python3.7/dist-packages/past/builtins/misc.py:4: DeprecationWarning: Using or importing the ABCs from 'collections' instead of from 'collections.abc' is deprecated since Python 3.3,and in 3.9 it will stop working\n",
            "  from collections import Mapping\n",
            "/usr/local/lib/python3.7/dist-packages/sklearn/utils/deprecation.py:87: FutureWarning: Function get_feature_names is deprecated; get_feature_names is deprecated in 1.0 and will be removed in 1.2. Please use get_feature_names_out instead.\n",
            "  warnings.warn(msg, category=FutureWarning)\n",
            "/usr/local/lib/python3.7/dist-packages/pyLDAvis/_prepare.py:247: FutureWarning: In a future version of pandas all arguments of DataFrame.drop except for the argument 'labels' will be keyword-only\n",
            "  by='saliency', ascending=False).head(R).drop('saliency', 1)\n",
            "/usr/local/lib/python3.7/dist-packages/sklearn/manifold/_t_sne.py:783: FutureWarning: The default initialization in TSNE will change from 'random' to 'pca' in 1.2.\n",
            "  FutureWarning,\n",
            "/usr/local/lib/python3.7/dist-packages/sklearn/manifold/_t_sne.py:793: FutureWarning: The default learning rate in TSNE will change from 200.0 to 'auto' in 1.2.\n",
            "  FutureWarning,\n",
            "/usr/local/lib/python3.7/dist-packages/sklearn/manifold/_t_sne.py:827: FutureWarning: 'square_distances' has been introduced in 0.24 to help phase out legacy squaring behavior. The 'legacy' setting will be removed in 1.1 (renaming of 0.26), and the default setting will be changed to True. In 1.3, 'square_distances' will be removed altogether, and distances will be squared by default. Set 'square_distances'=True to silence this warning.\n",
            "  FutureWarning,\n"
          ]
        },
        {
          "output_type": "execute_result",
          "data": {
            "text/html": [
              "\n",
              "<link rel=\"stylesheet\" type=\"text/css\" href=\"https://cdn.jsdelivr.net/gh/bmabey/pyLDAvis@3.3.1/pyLDAvis/js/ldavis.v1.0.0.css\">\n",
              "\n",
              "\n",
              "<div id=\"ldavis_el4241404648231207205633261609\"></div>\n",
              "<script type=\"text/javascript\">\n",
              "\n",
              "var ldavis_el4241404648231207205633261609_data = {\"mdsDat\": {\"x\": [150.22215270996094, 51.16336441040039, -73.1445541381836, -66.4101333618164, 54.41732406616211], \"y\": [-72.2695541381836, -159.968017578125, 21.523815155029297, -110.60643768310547, 12.44344425201416], \"topics\": [1, 2, 3, 4, 5], \"cluster\": [1, 1, 1, 1, 1], \"Freq\": [88.25309070420556, 3.1757942931742447, 2.9275457712729276, 2.864051357979948, 2.7795178733673263]}, \"tinfo\": {\"Term\": [\"max\", \"soon\", \"pitt\", \"gordon\", \"banks\", \"surrender\", \"would\", \"one\", \"intellect\", \"skepticism\", \"edu\", \"cadre\", \"shameful\", \"geb\", \"chastity\", \"jxp\", \"dsl\", \"like\", \"know\", \"get\", \"com\", \"people\", \"think\", \"thanks\", \"also\", \"use\", \"good\", \"could\", \"angmar\", \"anyone\", \"would\", \"one\", \"edu\", \"like\", \"know\", \"get\", \"com\", \"people\", \"think\", \"thanks\", \"also\", \"use\", \"good\", \"could\", \"anyone\", \"time\", \"new\", \"please\", \"well\", \"god\", \"much\", \"even\", \"make\", \"mail\", \"see\", \"way\", \"may\", \"system\", \"need\", \"want\", \"boskie\", \"dnd\", \"dork\", \"scx\", \"erythromycin\", \"rlk\", \"lavrencic\", \"calloway\", \"uww\", \"chz\", \"nis\", \"weizmann\", \"pneumonia\", \"ihno\", \"dres\", \"precompiled\", \"prefereably\", \"cornerstone\", \"trinomials\", \"skinner\", \"borut\", \"ljubljana\", \"ijs\", \"ahf\", \"scand\", \"mrm\", \"ebc\", \"rck\", \"dualpage\", \"estonian\", \"biocentre\", \"air\", \"cadre\", \"geb\", \"dsl\", \"jxp\", \"chastity\", \"shameful\", \"angmar\", \"cosmo\", \"skepticism\", \"intellect\", \"fourd\", \"irwin\", \"proline\", \"alphalpha\", \"alfalfa\", \"blakey\", \"leuven\", \"kuleuven\", \"inguiry\", \"chuvashia\", \"eridan\", \"nile\", \"purify\", \"kih\", \"vasomotor\", \"xgif\", \"rhinitis\", \"eastwick\", \"rawley\", \"haaden\", \"surrender\", \"banks\", \"gordon\", \"pitt\", \"soon\", \"pyron\", \"roid\", \"padi\", \"lewisville\", \"skndiv\", \"aucun\", \"ceux\", \"suis\", \"erme\", \"comme\", \"giz\", \"critus\", \"redundent\", \"etre\", \"bhj\", \"autre\", \"croire\", \"moins\", \"bskendig\", \"vaux\", \"hfe\", \"bxn\", \"tron\", \"vus\", \"vce\", \"squarewave\", \"farid\", \"qax\", \"skku\", \"stella\", \"fait\", \"max\", \"qui\", \"ose\", \"bgardner\", \"hammerl\", \"suresh\", \"bilinsky\", \"tesrt\", \"antolovich\", \"wagga\", \"acscvjh\", \"pwwpz\", \"ubms\", \"valerie\", \"montagar\", \"flank\", \"yoghurt\", \"een\", \"membre\", \"neuroticism\", \"vicuna\", \"frampton\", \"davidc\", \"dblspaced\", \"zac\", \"riv\", \"mantolovich\", \"issnus\", \"thennarangam\", \"facs\", \"issst\", \"heng\", \"keng\", \"rama\", \"csu\", \"litre\", \"iss\", \"andreas\", \"ein\", \"het\", \"everyones\", \"moolit\", \"ihr\"], \"Freq\": [9.0, 16.0, 8.0, 6.0, 4.0, 4.0, 141.0, 132.0, 2.0, 2.0, 118.0, 1.0, 1.0, 1.0, 1.0, 1.0, 1.0, 107.0, 102.0, 97.0, 94.0, 93.0, 88.0, 80.0, 76.0, 76.0, 76.0, 74.0, 0.0, 73.0, 141.53124124189827, 132.2500793606222, 118.40587584270862, 107.43871449680928, 102.3145689975606, 97.87592979475207, 94.085611527046, 92.94123045468706, 88.2669189029996, 80.16965673449434, 76.24493177602423, 75.92296578392151, 75.89932940361176, 74.72124656837885, 73.83691788304785, 73.33098368732779, 73.02016789598753, 68.12897456459967, 67.06921784142037, 62.49681311447152, 60.996699339164024, 60.5660883717937, 58.46841259798415, 58.36999785298969, 58.265914099643275, 57.93134089065938, 57.440826444262164, 56.893507831557166, 56.77097068096114, 56.12628172339183, 0.24106367442140458, 0.18809842913845268, 0.1823085616538968, 0.17575200822937204, 0.17421413519393844, 0.18355729706231522, 0.15938627483365608, 0.15945047852264424, 0.16088922790572777, 0.17651503390357565, 0.16158752715517588, 0.1667405013827666, 0.19215263454565543, 0.13129585369647775, 0.13016445064761487, 0.12814401159904096, 0.1281440115990407, 0.16505305522926877, 0.12236484395894925, 0.11863130891570273, 0.11555568991831676, 0.11555568991831641, 0.11418986718372899, 0.10973837036070884, 0.10518060904189559, 0.11522999881654078, 0.10205233538524432, 0.1001865924551484, 0.10005274057436252, 0.10005274057436246, 0.10005274057436235, 0.11192424562121756, 1.651841962964184, 1.620544275777678, 1.5767452451110182, 1.5788844548272982, 1.578884454827298, 1.6169634724489168, 0.6763823199618131, 0.6225100438887842, 1.5383565635463117, 1.5316156311189144, 0.4149250693636812, 0.2578041570639912, 0.22494240846323657, 0.2249424084632363, 0.24670166646793126, 0.18522963146842605, 0.17851177627711778, 0.1785117762771163, 0.17434613976929486, 0.17434613976929486, 0.1743461397692948, 0.14917755095334356, 0.16677321852267962, 0.1522353424552928, 0.14167081926022135, 0.13348961512652888, 0.1386509765257375, 0.1233018788694892, 0.1233018788694892, 0.1259840826726938, 1.4057973889288815, 1.2956842417537255, 1.2434489607592614, 1.1278239913126455, 0.617634405934798, 0.5259712457374448, 0.3156171795314078, 0.2744010075279165, 0.2744010074316236, 0.27440100722899563, 0.25835948955941, 0.2583594895594094, 0.2794972566559785, 0.22867261525684549, 0.2568345469996583, 0.20416246803833404, 0.16744879169054008, 0.16356574097257925, 0.14871374751922276, 0.1845354962529442, 0.1416295152515329, 0.14162951525153214, 0.14162951525153206, 0.14162951525152956, 0.14162951525152812, 0.13458450663834026, 0.1407573181021617, 0.13376417459797804, 0.13790248218296228, 0.11763353867200763, 0.11695933095441624, 0.12985406894780024, 0.11202906423256105, 0.10561715569096466, 0.10561715569096422, 0.24400455354381126, 1.2690806682922935, 0.15514881510597522, 0.13543277017010766, 0.16261575512062174, 0.26577086121960114, 0.22865739843910857, 0.16021592626230252, 0.15148001985011372, 0.144076117813547, 0.14407611781353025, 0.1464847374894652, 0.14648473748938418, 0.14648473748935348, 0.14106968121009103, 0.11655528386179305, 0.10312150870434764, 0.1028761093183062, 0.09285749887929985, 0.09286647790384128, 0.09246890391572034, 0.09163531724752359, 0.09163531724751875, 0.08588612214730712, 0.08594723630256851, 0.08448718720420706, 0.08448718720420267, 0.08448718720420144, 0.08508036537203695, 0.08508036537200375, 0.08508036537196809, 0.08508036537196743, 0.08508036537184342, 0.08508036537174675, 0.0893462253213284, 0.12973763181547027, 0.09625998302677362, 0.1028349152760779, 0.1491459138075785, 0.10237863007742734, 0.10382299082132078, 0.09670625113217973, 0.1003022338167076, 0.0875447818324518], \"Total\": [9.0, 16.0, 8.0, 6.0, 4.0, 4.0, 141.0, 132.0, 2.0, 2.0, 118.0, 1.0, 1.0, 1.0, 1.0, 1.0, 1.0, 107.0, 102.0, 97.0, 94.0, 93.0, 88.0, 80.0, 76.0, 76.0, 76.0, 74.0, 0.0, 73.0, 141.6367355289632, 132.35556546852058, 118.51162885036067, 107.54420906430225, 102.4200743212619, 97.98142934633441, 94.19114748328549, 93.04672761336435, 88.37241777839041, 80.27515502060179, 76.3504218691601, 76.02848279957928, 76.00482253890277, 74.82674416256539, 73.94241889656692, 73.43648017736207, 73.12678921855034, 68.2344732452008, 67.17470024584381, 62.602281347736955, 61.102239600748504, 60.671582361931385, 58.573889647047984, 58.475510730392244, 58.37143093661763, 58.036863806863344, 57.54637048264998, 56.99899802797401, 56.87648670331552, 56.231771885664664, 0.47094980874731723, 0.4135068046976865, 0.40586058809322517, 0.39928211094010035, 0.4018834190375936, 0.43754185511750177, 0.3840158098701197, 0.3841964596797122, 0.39981493517426975, 0.44062804706459324, 0.406096867878875, 0.4237592446687995, 0.5030034281415927, 0.3567523990321285, 0.35598645794412, 0.3522120012158404, 0.3522120012158421, 0.4607908094894616, 0.3464292073380006, 0.34413668849472134, 0.3403663896547535, 0.34036638965475485, 0.3389080679965166, 0.3333242955135411, 0.32950282843697165, 0.36323283916358273, 0.32610712031794664, 0.3237125342440123, 0.32417020334652513, 0.32417020334652547, 0.32417020334652613, 12.686513601024847, 1.8831608021921096, 1.8519904938212188, 1.8036208354267549, 1.8063102835529035, 1.8063102835529075, 1.853096639924423, 0.9087284287581747, 0.8484761286924195, 2.289560144017737, 2.431282319998156, 0.6732840791447503, 0.495749960170387, 0.4509802034785995, 0.450980203478601, 0.5037230548082041, 0.4157582936917364, 0.40518638625945164, 0.4051863862594583, 0.3999008091313712, 0.39990080913137127, 0.3999008091313712, 0.3750442717544423, 0.41932403156513204, 0.38606404629084196, 0.37009725123442555, 0.35978551452372093, 0.38281155163079017, 0.34879061614720924, 0.34879061614720924, 0.35855952068713715, 4.213675503979793, 4.866728375727978, 6.2040628436354215, 8.027821577891713, 16.808095484636365, 0.7650371752573479, 0.5521370126413959, 0.5152647232728284, 0.5152647237225166, 0.51526472466879, 0.48799177779963304, 0.4879917777996387, 0.5362848375168164, 0.4558392944931963, 0.5365855488603364, 0.431216853452747, 0.39342299681901244, 0.38953908955499494, 0.37872074711566817, 0.47217493864520316, 0.37194778550042695, 0.3719477855004314, 0.3719477855004316, 0.3719477855004434, 0.37194778550045027, 0.3628206067820103, 0.38047710653636424, 0.36975770448059897, 0.38272517976636783, 0.3457303071795454, 0.3442575679863089, 0.3829306074404384, 0.33808442030186214, 0.3324252602563782, 0.3324252602563804, 0.80090847324766, 9.405112394309452, 0.558439115927708, 0.47012629122598604, 1.2627679790083675, 0.5106949270023703, 0.4799527012706529, 0.38683599531125623, 0.37809809341671896, 0.3715386632976643, 0.37153866329774526, 0.38052285559645393, 0.3805228555968446, 0.3805228555969939, 0.39256512833576096, 0.34525071995151285, 0.3301822840058894, 0.329977944651923, 0.31970017092030084, 0.32041205641417714, 0.31985702057496224, 0.3187041393460813, 0.3187041393461043, 0.31501273422272014, 0.31567525769944227, 0.3122201604424216, 0.3122201604424424, 0.31222016044244794, 0.3162682656381962, 0.3162682656383555, 0.3162682656385275, 0.31626826563853033, 0.3162682656391267, 0.31626826563959215, 0.3398283512969384, 0.5792976526310964, 0.4044193928750172, 0.5058322860607859, 1.3539430142407318, 0.552668433823921, 0.60913711186573, 0.4978045785301937, 0.5680180379016966, 0.9396071873305677], \"Category\": [\"Default\", \"Default\", \"Default\", \"Default\", \"Default\", \"Default\", \"Default\", \"Default\", \"Default\", \"Default\", \"Default\", \"Default\", \"Default\", \"Default\", \"Default\", \"Default\", \"Default\", \"Default\", \"Default\", \"Default\", \"Default\", \"Default\", \"Default\", \"Default\", \"Default\", \"Default\", \"Default\", \"Default\", \"Default\", \"Default\", \"Topic1\", \"Topic1\", \"Topic1\", \"Topic1\", \"Topic1\", \"Topic1\", \"Topic1\", \"Topic1\", \"Topic1\", \"Topic1\", \"Topic1\", \"Topic1\", \"Topic1\", \"Topic1\", \"Topic1\", \"Topic1\", \"Topic1\", \"Topic1\", \"Topic1\", \"Topic1\", \"Topic1\", \"Topic1\", \"Topic1\", \"Topic1\", \"Topic1\", \"Topic1\", \"Topic1\", \"Topic1\", \"Topic1\", \"Topic1\", \"Topic2\", \"Topic2\", \"Topic2\", \"Topic2\", \"Topic2\", \"Topic2\", \"Topic2\", \"Topic2\", \"Topic2\", \"Topic2\", \"Topic2\", \"Topic2\", \"Topic2\", \"Topic2\", \"Topic2\", \"Topic2\", \"Topic2\", \"Topic2\", \"Topic2\", \"Topic2\", \"Topic2\", \"Topic2\", \"Topic2\", \"Topic2\", \"Topic2\", \"Topic2\", \"Topic2\", \"Topic2\", \"Topic2\", \"Topic2\", \"Topic2\", \"Topic2\", \"Topic3\", \"Topic3\", \"Topic3\", \"Topic3\", \"Topic3\", \"Topic3\", \"Topic3\", \"Topic3\", \"Topic3\", \"Topic3\", \"Topic3\", \"Topic3\", \"Topic3\", \"Topic3\", \"Topic3\", \"Topic3\", \"Topic3\", \"Topic3\", \"Topic3\", \"Topic3\", \"Topic3\", \"Topic3\", \"Topic3\", \"Topic3\", \"Topic3\", \"Topic3\", \"Topic3\", \"Topic3\", \"Topic3\", \"Topic3\", \"Topic3\", \"Topic3\", \"Topic3\", \"Topic3\", \"Topic3\", \"Topic4\", \"Topic4\", \"Topic4\", \"Topic4\", \"Topic4\", \"Topic4\", \"Topic4\", \"Topic4\", \"Topic4\", \"Topic4\", \"Topic4\", \"Topic4\", \"Topic4\", \"Topic4\", \"Topic4\", \"Topic4\", \"Topic4\", \"Topic4\", \"Topic4\", \"Topic4\", \"Topic4\", \"Topic4\", \"Topic4\", \"Topic4\", \"Topic4\", \"Topic4\", \"Topic4\", \"Topic4\", \"Topic4\", \"Topic4\", \"Topic4\", \"Topic4\", \"Topic4\", \"Topic4\", \"Topic4\", \"Topic5\", \"Topic5\", \"Topic5\", \"Topic5\", \"Topic5\", \"Topic5\", \"Topic5\", \"Topic5\", \"Topic5\", \"Topic5\", \"Topic5\", \"Topic5\", \"Topic5\", \"Topic5\", \"Topic5\", \"Topic5\", \"Topic5\", \"Topic5\", \"Topic5\", \"Topic5\", \"Topic5\", \"Topic5\", \"Topic5\", \"Topic5\", \"Topic5\", \"Topic5\", \"Topic5\", \"Topic5\", \"Topic5\", \"Topic5\", \"Topic5\", \"Topic5\", \"Topic5\", \"Topic5\", \"Topic5\", \"Topic5\", \"Topic5\", \"Topic5\", \"Topic5\"], \"logprob\": [30.0, 29.0, 28.0, 27.0, 26.0, 25.0, 24.0, 23.0, 22.0, 21.0, 20.0, 19.0, 18.0, 17.0, 16.0, 15.0, 14.0, 13.0, 12.0, 11.0, 10.0, 9.0, 8.0, 7.0, 6.0, 5.0, 4.0, 3.0, 2.0, 1.0, -6.1094, -6.1772, -6.2878, -6.385, -6.4339, -6.4782, -6.5177, -6.5299, -6.5815, -6.6778, -6.728, -6.7322, -6.7325, -6.7481, -6.76, -6.7669, -6.7712, -6.8405, -6.8562, -6.9268, -6.9511, -6.9582, -6.9934, -6.9951, -6.9969, -7.0026, -7.0111, -7.0207, -7.0229, -7.0343, -9.1599, -9.408, -9.4393, -9.4759, -9.4847, -9.4325, -9.5737, -9.5733, -9.5643, -9.4716, -9.56, -9.5286, -9.3867, -9.7676, -9.7762, -9.7919, -9.7919, -9.5387, -9.838, -9.869, -9.8953, -9.8953, -9.9071, -9.9469, -9.9893, -9.8981, -10.0195, -10.038, -10.0393, -10.0393, -10.0393, -9.9272, -7.154, -7.1731, -7.2005, -7.1991, -7.1991, -7.1753, -8.0469, -8.1299, -7.2251, -7.2295, -8.5355, -9.0114, -9.1478, -9.1478, -9.0554, -9.342, -9.379, -9.379, -9.4026, -9.4026, -9.4026, -9.5585, -9.447, -9.5382, -9.6101, -9.6696, -9.6317, -9.749, -9.749, -9.7275, -7.3153, -7.3968, -7.438, -7.5356, -8.1377, -8.2764, -8.7872, -8.9271, -8.9271, -8.9271, -8.9873, -8.9873, -8.9087, -9.1094, -8.9933, -9.2228, -9.421, -9.4445, -9.5397, -9.3238, -9.5885, -9.5885, -9.5885, -9.5885, -9.5885, -9.6395, -9.5947, -9.6456, -9.6151, -9.7741, -9.7799, -9.6753, -9.8229, -9.8819, -9.8819, -9.0445, -7.3956, -9.4973, -9.6332, -9.4503, -8.9291, -9.0795, -9.4352, -9.4913, -9.5414, -9.5414, -9.5248, -9.5248, -9.5248, -9.5625, -9.7534, -9.8758, -9.8782, -9.9807, -9.9806, -9.9849, -9.9939, -9.9939, -10.0587, -10.058, -10.0751, -10.0751, -10.0751, -10.0681, -10.0681, -10.0681, -10.0681, -10.0681, -10.0681, -10.0192, -9.6462, -9.9447, -9.8786, -9.5068, -9.8831, -9.869, -9.9401, -9.9035, -10.0396], \"loglift\": [30.0, 29.0, 28.0, 27.0, 26.0, 25.0, 24.0, 23.0, 22.0, 21.0, 20.0, 19.0, 18.0, 17.0, 16.0, 15.0, 14.0, 13.0, 12.0, 11.0, 10.0, 9.0, 8.0, 7.0, 6.0, 5.0, 4.0, 3.0, 2.0, 1.0, 0.1242, 0.1242, 0.1241, 0.124, 0.1239, 0.1239, 0.1238, 0.1238, 0.1238, 0.1236, 0.1236, 0.1236, 0.1236, 0.1236, 0.1235, 0.1235, 0.1235, 0.1234, 0.1234, 0.1233, 0.1232, 0.1232, 0.1232, 0.1232, 0.1232, 0.1231, 0.1231, 0.1231, 0.1231, 0.1231, 2.7799, 2.6619, 2.6493, 2.629, 2.6137, 2.581, 2.5703, 2.5702, 2.5393, 2.5348, 2.5281, 2.5169, 2.4873, 2.45, 2.4435, 2.4385, 2.4385, 2.4229, 2.4089, 2.3846, 2.3693, 2.3693, 2.3617, 2.3386, 2.3077, 2.3015, 2.2879, 2.2768, 2.274, 2.274, 2.274, -1.2809, 3.3999, 3.3975, 3.3966, 3.3964, 3.3964, 3.3947, 3.2357, 3.2213, 3.1334, 3.0689, 3.0469, 2.8771, 2.8354, 2.8354, 2.8172, 2.7225, 2.7113, 2.7113, 2.7008, 2.7008, 2.7008, 2.6091, 2.609, 2.6004, 2.5707, 2.5395, 2.5154, 2.4912, 2.4912, 2.4851, 2.4333, 2.2076, 1.9237, 1.5684, 0.2273, 3.1783, 2.9937, 2.9228, 2.9228, 2.9228, 2.917, 2.917, 2.9013, 2.8631, 2.8161, 2.8052, 2.6987, 2.6852, 2.6182, 2.6134, 2.5874, 2.5874, 2.5874, 2.5874, 2.5874, 2.5612, 2.5585, 2.5362, 2.5322, 2.4748, 2.4734, 2.4715, 2.4484, 2.4063, 2.4063, 2.3644, 1.55, 2.2722, 2.3084, 1.5033, 2.9298, 2.8414, 2.7014, 2.6682, 2.6356, 2.6356, 2.6283, 2.6283, 2.6283, 2.5594, 2.497, 2.4192, 2.4174, 2.3466, 2.3444, 2.3419, 2.3364, 2.3364, 2.2833, 2.2819, 2.2758, 2.2758, 2.2758, 2.2699, 2.2699, 2.2699, 2.2699, 2.2699, 2.2699, 2.247, 2.0866, 2.1475, 1.9898, 1.377, 1.8968, 1.8135, 1.9444, 1.8489, 1.2096]}, \"token.table\": {\"Topic\": [1, 1, 1, 3, 1, 1, 3, 1, 3, 3, 1, 3, 1, 3, 1, 1, 3, 1, 1, 1, 1, 3, 1, 1, 3, 3, 1, 1, 1, 1, 1, 4, 1, 1, 1, 1, 1, 1, 1, 3, 1, 4, 1, 3, 1, 3, 1, 3, 1, 3, 1, 1, 1, 1, 1, 1, 1, 1, 1], \"Freq\": [0.9458863465082015, 0.995410347964277, 0.7385835219666043, 1.100438776155108, 1.0007787289663004, 0.6164305398595935, 0.2054768466198645, 0.791911116391536, 1.0620441959453928, 1.1072294822272262, 0.997970642800382, 1.1785835407545204, 1.0023154266482341, 1.108880514527201, 0.9956828806141321, 1.0054130389431657, 1.0799191500564307, 1.0001895323816918, 0.990379242820378, 0.9999365495669659, 0.8059234933652168, 0.16118469867304336, 1.0642745324681997, 0.4113055862639426, 0.8226111725278852, 1.1072294822272288, 0.9958985157543995, 0.99493967114513, 0.9918682073152872, 0.990202295758296, 0.8506012118303219, 0.10632515147879024, 0.9905055613748098, 0.9983267454447405, 1.002171605593868, 0.9982661727678017, 0.9973135586156734, 0.999497804871134, 0.871967560823438, 0.1245667944033483, 0.9965637128265323, 1.3071260225538894, 0.9936367683529818, 1.0792745272483837, 0.43676511517412797, 0.8735302303482559, 0.9519222457193313, 0.059495140357458204, 0.7119674965873657, 0.23732249886245524, 1.0000175787656038, 0.9965723514264012, 0.9957858143100224, 0.994056357599004, 0.9996253667240163, 0.9958782752544963, 0.9993648208320487, 0.9973993148431709, 1.002564761674859], \"Term\": [\"air\", \"also\", \"andreas\", \"angmar\", \"anyone\", \"banks\", \"banks\", \"bgardner\", \"cadre\", \"chastity\", \"com\", \"cosmo\", \"could\", \"dsl\", \"edu\", \"even\", \"geb\", \"get\", \"god\", \"good\", \"gordon\", \"gordon\", \"ihr\", \"intellect\", \"intellect\", \"jxp\", \"know\", \"like\", \"mail\", \"make\", \"max\", \"max\", \"may\", \"much\", \"need\", \"new\", \"one\", \"people\", \"pitt\", \"pitt\", \"please\", \"pyron\", \"see\", \"shameful\", \"skepticism\", \"skepticism\", \"soon\", \"soon\", \"surrender\", \"surrender\", \"system\", \"thanks\", \"think\", \"time\", \"use\", \"want\", \"way\", \"well\", \"would\"]}, \"R\": 30, \"lambda.step\": 0.01, \"plot.opts\": {\"xlab\": \"PC1\", \"ylab\": \"PC2\"}, \"topic.order\": [3, 1, 2, 4, 5]};\n",
              "\n",
              "function LDAvis_load_lib(url, callback){\n",
              "  var s = document.createElement('script');\n",
              "  s.src = url;\n",
              "  s.async = true;\n",
              "  s.onreadystatechange = s.onload = callback;\n",
              "  s.onerror = function(){console.warn(\"failed to load library \" + url);};\n",
              "  document.getElementsByTagName(\"head\")[0].appendChild(s);\n",
              "}\n",
              "\n",
              "if(typeof(LDAvis) !== \"undefined\"){\n",
              "   // already loaded: just create the visualization\n",
              "   !function(LDAvis){\n",
              "       new LDAvis(\"#\" + \"ldavis_el4241404648231207205633261609\", ldavis_el4241404648231207205633261609_data);\n",
              "   }(LDAvis);\n",
              "}else if(typeof define === \"function\" && define.amd){\n",
              "   // require.js is available: use it to load d3/LDAvis\n",
              "   require.config({paths: {d3: \"https://d3js.org/d3.v5\"}});\n",
              "   require([\"d3\"], function(d3){\n",
              "      window.d3 = d3;\n",
              "      LDAvis_load_lib(\"https://cdn.jsdelivr.net/gh/bmabey/pyLDAvis@3.3.1/pyLDAvis/js/ldavis.v3.0.0.js\", function(){\n",
              "        new LDAvis(\"#\" + \"ldavis_el4241404648231207205633261609\", ldavis_el4241404648231207205633261609_data);\n",
              "      });\n",
              "    });\n",
              "}else{\n",
              "    // require.js not available: dynamically load d3 & LDAvis\n",
              "    LDAvis_load_lib(\"https://d3js.org/d3.v5.js\", function(){\n",
              "         LDAvis_load_lib(\"https://cdn.jsdelivr.net/gh/bmabey/pyLDAvis@3.3.1/pyLDAvis/js/ldavis.v3.0.0.js\", function(){\n",
              "                 new LDAvis(\"#\" + \"ldavis_el4241404648231207205633261609\", ldavis_el4241404648231207205633261609_data);\n",
              "            })\n",
              "         });\n",
              "}\n",
              "</script>"
            ],
            "text/plain": [
              "<IPython.core.display.HTML object>"
            ]
          },
          "metadata": {},
          "execution_count": 33
        }
      ]
    },
    {
      "cell_type": "code",
      "source": [
        ""
      ],
      "metadata": {
        "id": "8dLX_L3_y99p"
      },
      "execution_count": null,
      "outputs": []
    }
  ]
}